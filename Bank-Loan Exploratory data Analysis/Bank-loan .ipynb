{
 "cells": [
  {
   "cell_type": "code",
   "execution_count": 1,
   "id": "defba55b",
   "metadata": {},
   "outputs": [],
   "source": [
    "# importing all the necessary librariies\n",
    "import matplotlib.pyplot as plt\n",
    "from tabulate import tabulate\n",
    "import matplotlib as mat\n",
    "import seaborn as sns\n",
    "import pandas as pd\n",
    "import numpy as np"
   ]
  },
  {
   "cell_type": "code",
   "execution_count": 2,
   "id": "dc020d57",
   "metadata": {},
   "outputs": [],
   "source": [
    "#uploading the data  to the jupiter notebook\n",
    "df=pd.read_csv('data (2).csv')"
   ]
  },
  {
   "cell_type": "code",
   "execution_count": 3,
   "id": "97e02ec3",
   "metadata": {},
   "outputs": [
    {
     "data": {
      "text/html": [
       "<div>\n",
       "<style scoped>\n",
       "    .dataframe tbody tr th:only-of-type {\n",
       "        vertical-align: middle;\n",
       "    }\n",
       "\n",
       "    .dataframe tbody tr th {\n",
       "        vertical-align: top;\n",
       "    }\n",
       "\n",
       "    .dataframe thead th {\n",
       "        text-align: right;\n",
       "    }\n",
       "</style>\n",
       "<table border=\"1\" class=\"dataframe\">\n",
       "  <thead>\n",
       "    <tr style=\"text-align: right;\">\n",
       "      <th></th>\n",
       "      <th>SK_ID_CURR</th>\n",
       "      <th>TARGET</th>\n",
       "      <th>NAME_CONTRACT_TYPE</th>\n",
       "      <th>GENDER</th>\n",
       "      <th>Car</th>\n",
       "      <th>House</th>\n",
       "      <th>CNT_CHILDREN</th>\n",
       "      <th>AMT_INCOME_TOTAL</th>\n",
       "      <th>AMT_CREDIT</th>\n",
       "      <th>AMT_GOODS_PRICE</th>\n",
       "      <th>...</th>\n",
       "      <th>DAYS_EMPLOYED</th>\n",
       "      <th>MOBILE</th>\n",
       "      <th>WORK_PHONE</th>\n",
       "      <th>HOME_PHONE</th>\n",
       "      <th>MOBILE_REACHABLE</th>\n",
       "      <th>FLAG_EMAIL</th>\n",
       "      <th>OCCUPATION_TYPE</th>\n",
       "      <th>CNT_FAM_MEMBERS</th>\n",
       "      <th>APPLICATION_DAY</th>\n",
       "      <th>TOTAL_DOC_SUBMITTED</th>\n",
       "    </tr>\n",
       "  </thead>\n",
       "  <tbody>\n",
       "    <tr>\n",
       "      <th>0</th>\n",
       "      <td>100002</td>\n",
       "      <td>1</td>\n",
       "      <td>Cash loans</td>\n",
       "      <td>M</td>\n",
       "      <td>N</td>\n",
       "      <td>Y</td>\n",
       "      <td>0</td>\n",
       "      <td>202500.0</td>\n",
       "      <td>406597.5</td>\n",
       "      <td>351000.0</td>\n",
       "      <td>...</td>\n",
       "      <td>-637</td>\n",
       "      <td>1</td>\n",
       "      <td>1</td>\n",
       "      <td>0</td>\n",
       "      <td>1</td>\n",
       "      <td>0</td>\n",
       "      <td>Laborers</td>\n",
       "      <td>1.0</td>\n",
       "      <td>WEDNESDAY</td>\n",
       "      <td>1</td>\n",
       "    </tr>\n",
       "    <tr>\n",
       "      <th>1</th>\n",
       "      <td>100003</td>\n",
       "      <td>0</td>\n",
       "      <td>Cash loans</td>\n",
       "      <td>F</td>\n",
       "      <td>N</td>\n",
       "      <td>N</td>\n",
       "      <td>0</td>\n",
       "      <td>270000.0</td>\n",
       "      <td>1293502.5</td>\n",
       "      <td>1129500.0</td>\n",
       "      <td>...</td>\n",
       "      <td>-1188</td>\n",
       "      <td>1</td>\n",
       "      <td>1</td>\n",
       "      <td>0</td>\n",
       "      <td>1</td>\n",
       "      <td>0</td>\n",
       "      <td>Core staff</td>\n",
       "      <td>2.0</td>\n",
       "      <td>MONDAY</td>\n",
       "      <td>1</td>\n",
       "    </tr>\n",
       "    <tr>\n",
       "      <th>2</th>\n",
       "      <td>100004</td>\n",
       "      <td>0</td>\n",
       "      <td>Revolving loans</td>\n",
       "      <td>M</td>\n",
       "      <td>Y</td>\n",
       "      <td>Y</td>\n",
       "      <td>0</td>\n",
       "      <td>67500.0</td>\n",
       "      <td>135000.0</td>\n",
       "      <td>135000.0</td>\n",
       "      <td>...</td>\n",
       "      <td>-225</td>\n",
       "      <td>1</td>\n",
       "      <td>1</td>\n",
       "      <td>1</td>\n",
       "      <td>1</td>\n",
       "      <td>0</td>\n",
       "      <td>Laborers</td>\n",
       "      <td>1.0</td>\n",
       "      <td>MONDAY</td>\n",
       "      <td>0</td>\n",
       "    </tr>\n",
       "    <tr>\n",
       "      <th>3</th>\n",
       "      <td>100006</td>\n",
       "      <td>0</td>\n",
       "      <td>Cash loans</td>\n",
       "      <td>F</td>\n",
       "      <td>N</td>\n",
       "      <td>Y</td>\n",
       "      <td>0</td>\n",
       "      <td>135000.0</td>\n",
       "      <td>312682.5</td>\n",
       "      <td>297000.0</td>\n",
       "      <td>...</td>\n",
       "      <td>-3039</td>\n",
       "      <td>1</td>\n",
       "      <td>1</td>\n",
       "      <td>0</td>\n",
       "      <td>1</td>\n",
       "      <td>0</td>\n",
       "      <td>Laborers</td>\n",
       "      <td>2.0</td>\n",
       "      <td>WEDNESDAY</td>\n",
       "      <td>1</td>\n",
       "    </tr>\n",
       "    <tr>\n",
       "      <th>4</th>\n",
       "      <td>100007</td>\n",
       "      <td>0</td>\n",
       "      <td>Cash loans</td>\n",
       "      <td>M</td>\n",
       "      <td>N</td>\n",
       "      <td>Y</td>\n",
       "      <td>0</td>\n",
       "      <td>121500.0</td>\n",
       "      <td>513000.0</td>\n",
       "      <td>513000.0</td>\n",
       "      <td>...</td>\n",
       "      <td>-3038</td>\n",
       "      <td>1</td>\n",
       "      <td>1</td>\n",
       "      <td>0</td>\n",
       "      <td>1</td>\n",
       "      <td>0</td>\n",
       "      <td>Core staff</td>\n",
       "      <td>1.0</td>\n",
       "      <td>THURSDAY</td>\n",
       "      <td>1</td>\n",
       "    </tr>\n",
       "  </tbody>\n",
       "</table>\n",
       "<p>5 rows × 24 columns</p>\n",
       "</div>"
      ],
      "text/plain": [
       "   SK_ID_CURR  TARGET NAME_CONTRACT_TYPE GENDER Car House  CNT_CHILDREN  \\\n",
       "0      100002       1         Cash loans      M   N     Y             0   \n",
       "1      100003       0         Cash loans      F   N     N             0   \n",
       "2      100004       0    Revolving loans      M   Y     Y             0   \n",
       "3      100006       0         Cash loans      F   N     Y             0   \n",
       "4      100007       0         Cash loans      M   N     Y             0   \n",
       "\n",
       "   AMT_INCOME_TOTAL  AMT_CREDIT  AMT_GOODS_PRICE  ... DAYS_EMPLOYED MOBILE  \\\n",
       "0          202500.0    406597.5         351000.0  ...          -637      1   \n",
       "1          270000.0   1293502.5        1129500.0  ...         -1188      1   \n",
       "2           67500.0    135000.0         135000.0  ...          -225      1   \n",
       "3          135000.0    312682.5         297000.0  ...         -3039      1   \n",
       "4          121500.0    513000.0         513000.0  ...         -3038      1   \n",
       "\n",
       "  WORK_PHONE HOME_PHONE  MOBILE_REACHABLE  FLAG_EMAIL  OCCUPATION_TYPE  \\\n",
       "0          1          0                 1           0         Laborers   \n",
       "1          1          0                 1           0       Core staff   \n",
       "2          1          1                 1           0         Laborers   \n",
       "3          1          0                 1           0         Laborers   \n",
       "4          1          0                 1           0       Core staff   \n",
       "\n",
       "   CNT_FAM_MEMBERS  APPLICATION_DAY  TOTAL_DOC_SUBMITTED  \n",
       "0              1.0        WEDNESDAY                    1  \n",
       "1              2.0           MONDAY                    1  \n",
       "2              1.0           MONDAY                    0  \n",
       "3              2.0        WEDNESDAY                    1  \n",
       "4              1.0         THURSDAY                    1  \n",
       "\n",
       "[5 rows x 24 columns]"
      ]
     },
     "execution_count": 3,
     "metadata": {},
     "output_type": "execute_result"
    }
   ],
   "source": [
    "#viewing the data\n",
    "df.head()"
   ]
  },
  {
   "cell_type": "code",
   "execution_count": 4,
   "id": "f352e2c7",
   "metadata": {},
   "outputs": [
    {
     "data": {
      "text/html": [
       "<div>\n",
       "<style scoped>\n",
       "    .dataframe tbody tr th:only-of-type {\n",
       "        vertical-align: middle;\n",
       "    }\n",
       "\n",
       "    .dataframe tbody tr th {\n",
       "        vertical-align: top;\n",
       "    }\n",
       "\n",
       "    .dataframe thead th {\n",
       "        text-align: right;\n",
       "    }\n",
       "</style>\n",
       "<table border=\"1\" class=\"dataframe\">\n",
       "  <thead>\n",
       "    <tr style=\"text-align: right;\">\n",
       "      <th></th>\n",
       "      <th>SK_ID_CURR</th>\n",
       "      <th>TARGET</th>\n",
       "      <th>NAME_CONTRACT_TYPE</th>\n",
       "      <th>GENDER</th>\n",
       "      <th>Car</th>\n",
       "      <th>House</th>\n",
       "      <th>CNT_CHILDREN</th>\n",
       "      <th>AMT_INCOME_TOTAL</th>\n",
       "      <th>AMT_CREDIT</th>\n",
       "      <th>AMT_GOODS_PRICE</th>\n",
       "      <th>...</th>\n",
       "      <th>DAYS_EMPLOYED</th>\n",
       "      <th>MOBILE</th>\n",
       "      <th>WORK_PHONE</th>\n",
       "      <th>HOME_PHONE</th>\n",
       "      <th>MOBILE_REACHABLE</th>\n",
       "      <th>FLAG_EMAIL</th>\n",
       "      <th>OCCUPATION_TYPE</th>\n",
       "      <th>CNT_FAM_MEMBERS</th>\n",
       "      <th>APPLICATION_DAY</th>\n",
       "      <th>TOTAL_DOC_SUBMITTED</th>\n",
       "    </tr>\n",
       "  </thead>\n",
       "  <tbody>\n",
       "    <tr>\n",
       "      <th>99995</th>\n",
       "      <td>216086</td>\n",
       "      <td>0</td>\n",
       "      <td>Cash loans</td>\n",
       "      <td>F</td>\n",
       "      <td>N</td>\n",
       "      <td>Y</td>\n",
       "      <td>1</td>\n",
       "      <td>157500.0</td>\n",
       "      <td>755190.0</td>\n",
       "      <td>675000.0</td>\n",
       "      <td>...</td>\n",
       "      <td>-232</td>\n",
       "      <td>1</td>\n",
       "      <td>1</td>\n",
       "      <td>1</td>\n",
       "      <td>1</td>\n",
       "      <td>0</td>\n",
       "      <td>Sales staff</td>\n",
       "      <td>3.0</td>\n",
       "      <td>MONDAY</td>\n",
       "      <td>1</td>\n",
       "    </tr>\n",
       "    <tr>\n",
       "      <th>99996</th>\n",
       "      <td>216087</td>\n",
       "      <td>0</td>\n",
       "      <td>Cash loans</td>\n",
       "      <td>F</td>\n",
       "      <td>N</td>\n",
       "      <td>Y</td>\n",
       "      <td>1</td>\n",
       "      <td>225000.0</td>\n",
       "      <td>284400.0</td>\n",
       "      <td>225000.0</td>\n",
       "      <td>...</td>\n",
       "      <td>-182</td>\n",
       "      <td>1</td>\n",
       "      <td>1</td>\n",
       "      <td>0</td>\n",
       "      <td>1</td>\n",
       "      <td>0</td>\n",
       "      <td>Managers</td>\n",
       "      <td>3.0</td>\n",
       "      <td>TUESDAY</td>\n",
       "      <td>1</td>\n",
       "    </tr>\n",
       "    <tr>\n",
       "      <th>99997</th>\n",
       "      <td>216088</td>\n",
       "      <td>0</td>\n",
       "      <td>Cash loans</td>\n",
       "      <td>F</td>\n",
       "      <td>Y</td>\n",
       "      <td>Y</td>\n",
       "      <td>0</td>\n",
       "      <td>135000.0</td>\n",
       "      <td>1262583.0</td>\n",
       "      <td>1102500.0</td>\n",
       "      <td>...</td>\n",
       "      <td>-4805</td>\n",
       "      <td>1</td>\n",
       "      <td>1</td>\n",
       "      <td>0</td>\n",
       "      <td>1</td>\n",
       "      <td>0</td>\n",
       "      <td>Sales staff</td>\n",
       "      <td>2.0</td>\n",
       "      <td>TUESDAY</td>\n",
       "      <td>1</td>\n",
       "    </tr>\n",
       "    <tr>\n",
       "      <th>99998</th>\n",
       "      <td>216089</td>\n",
       "      <td>0</td>\n",
       "      <td>Cash loans</td>\n",
       "      <td>F</td>\n",
       "      <td>Y</td>\n",
       "      <td>N</td>\n",
       "      <td>0</td>\n",
       "      <td>135000.0</td>\n",
       "      <td>225000.0</td>\n",
       "      <td>225000.0</td>\n",
       "      <td>...</td>\n",
       "      <td>-340</td>\n",
       "      <td>1</td>\n",
       "      <td>1</td>\n",
       "      <td>0</td>\n",
       "      <td>1</td>\n",
       "      <td>0</td>\n",
       "      <td>Sales staff</td>\n",
       "      <td>2.0</td>\n",
       "      <td>FRIDAY</td>\n",
       "      <td>2</td>\n",
       "    </tr>\n",
       "    <tr>\n",
       "      <th>99999</th>\n",
       "      <td>216090</td>\n",
       "      <td>0</td>\n",
       "      <td>Revolving loans</td>\n",
       "      <td>M</td>\n",
       "      <td>Y</td>\n",
       "      <td>Y</td>\n",
       "      <td>0</td>\n",
       "      <td>202500.0</td>\n",
       "      <td>337500.0</td>\n",
       "      <td>337500.0</td>\n",
       "      <td>...</td>\n",
       "      <td>-3230</td>\n",
       "      <td>1</td>\n",
       "      <td>1</td>\n",
       "      <td>1</td>\n",
       "      <td>1</td>\n",
       "      <td>0</td>\n",
       "      <td>Drivers</td>\n",
       "      <td>2.0</td>\n",
       "      <td>SATURDAY</td>\n",
       "      <td>0</td>\n",
       "    </tr>\n",
       "  </tbody>\n",
       "</table>\n",
       "<p>5 rows × 24 columns</p>\n",
       "</div>"
      ],
      "text/plain": [
       "       SK_ID_CURR  TARGET NAME_CONTRACT_TYPE GENDER Car House  CNT_CHILDREN  \\\n",
       "99995      216086       0         Cash loans      F   N     Y             1   \n",
       "99996      216087       0         Cash loans      F   N     Y             1   \n",
       "99997      216088       0         Cash loans      F   Y     Y             0   \n",
       "99998      216089       0         Cash loans      F   Y     N             0   \n",
       "99999      216090       0    Revolving loans      M   Y     Y             0   \n",
       "\n",
       "       AMT_INCOME_TOTAL  AMT_CREDIT  AMT_GOODS_PRICE  ... DAYS_EMPLOYED  \\\n",
       "99995          157500.0    755190.0         675000.0  ...          -232   \n",
       "99996          225000.0    284400.0         225000.0  ...          -182   \n",
       "99997          135000.0   1262583.0        1102500.0  ...         -4805   \n",
       "99998          135000.0    225000.0         225000.0  ...          -340   \n",
       "99999          202500.0    337500.0         337500.0  ...         -3230   \n",
       "\n",
       "      MOBILE WORK_PHONE HOME_PHONE  MOBILE_REACHABLE  FLAG_EMAIL  \\\n",
       "99995      1          1          1                 1           0   \n",
       "99996      1          1          0                 1           0   \n",
       "99997      1          1          0                 1           0   \n",
       "99998      1          1          0                 1           0   \n",
       "99999      1          1          1                 1           0   \n",
       "\n",
       "       OCCUPATION_TYPE  CNT_FAM_MEMBERS  APPLICATION_DAY  TOTAL_DOC_SUBMITTED  \n",
       "99995      Sales staff              3.0           MONDAY                    1  \n",
       "99996         Managers              3.0          TUESDAY                    1  \n",
       "99997      Sales staff              2.0          TUESDAY                    1  \n",
       "99998      Sales staff              2.0           FRIDAY                    2  \n",
       "99999          Drivers              2.0         SATURDAY                    0  \n",
       "\n",
       "[5 rows x 24 columns]"
      ]
     },
     "execution_count": 4,
     "metadata": {},
     "output_type": "execute_result"
    }
   ],
   "source": [
    "df.tail()"
   ]
  },
  {
   "cell_type": "code",
   "execution_count": 5,
   "id": "4ab817a5",
   "metadata": {},
   "outputs": [
    {
     "name": "stdout",
     "output_type": "stream",
     "text": [
      "(100000, 24)\n"
     ]
    }
   ],
   "source": [
    "print(df.shape)"
   ]
  },
  {
   "cell_type": "code",
   "execution_count": 6,
   "id": "48ee70ff",
   "metadata": {},
   "outputs": [
    {
     "name": "stdout",
     "output_type": "stream",
     "text": [
      "Index(['SK_ID_CURR', 'TARGET', 'NAME_CONTRACT_TYPE', 'GENDER', 'Car', 'House',\n",
      "       'CNT_CHILDREN', 'AMT_INCOME_TOTAL', 'AMT_CREDIT', 'AMT_GOODS_PRICE',\n",
      "       'NAME_TYPE_SUITE', 'NAME_INCOME_TYPE', 'NAME_EDUCATION_TYPE',\n",
      "       'NAME_FAMILY_STATUS', 'DAYS_EMPLOYED', 'MOBILE', 'WORK_PHONE',\n",
      "       'HOME_PHONE', 'MOBILE_REACHABLE', 'FLAG_EMAIL', 'OCCUPATION_TYPE',\n",
      "       'CNT_FAM_MEMBERS', 'APPLICATION_DAY', 'TOTAL_DOC_SUBMITTED'],\n",
      "      dtype='object')\n"
     ]
    }
   ],
   "source": [
    "#viewing all the columns\n",
    "print(df.columns)"
   ]
  },
  {
   "cell_type": "code",
   "execution_count": 7,
   "id": "53f89435",
   "metadata": {},
   "outputs": [
    {
     "name": "stdout",
     "output_type": "stream",
     "text": [
      "<class 'pandas.core.frame.DataFrame'>\n",
      "RangeIndex: 100000 entries, 0 to 99999\n",
      "Data columns (total 24 columns):\n",
      " #   Column               Non-Null Count   Dtype  \n",
      "---  ------               --------------   -----  \n",
      " 0   SK_ID_CURR           100000 non-null  int64  \n",
      " 1   TARGET               100000 non-null  int64  \n",
      " 2   NAME_CONTRACT_TYPE   100000 non-null  object \n",
      " 3   GENDER               100000 non-null  object \n",
      " 4   Car                  100000 non-null  object \n",
      " 5   House                100000 non-null  object \n",
      " 6   CNT_CHILDREN         100000 non-null  int64  \n",
      " 7   AMT_INCOME_TOTAL     100000 non-null  float64\n",
      " 8   AMT_CREDIT           100000 non-null  float64\n",
      " 9   AMT_GOODS_PRICE      99919 non-null   float64\n",
      " 10  NAME_TYPE_SUITE      99595 non-null   object \n",
      " 11  NAME_INCOME_TYPE     100000 non-null  object \n",
      " 12  NAME_EDUCATION_TYPE  100000 non-null  object \n",
      " 13  NAME_FAMILY_STATUS   100000 non-null  object \n",
      " 14  DAYS_EMPLOYED        100000 non-null  int64  \n",
      " 15  MOBILE               100000 non-null  int64  \n",
      " 16  WORK_PHONE           100000 non-null  int64  \n",
      " 17  HOME_PHONE           100000 non-null  int64  \n",
      " 18  MOBILE_REACHABLE     100000 non-null  int64  \n",
      " 19  FLAG_EMAIL           100000 non-null  int64  \n",
      " 20  OCCUPATION_TYPE      68776 non-null   object \n",
      " 21  CNT_FAM_MEMBERS      99999 non-null   float64\n",
      " 22  APPLICATION_DAY      100000 non-null  object \n",
      " 23  TOTAL_DOC_SUBMITTED  100000 non-null  int64  \n",
      "dtypes: float64(4), int64(10), object(10)\n",
      "memory usage: 18.3+ MB\n"
     ]
    }
   ],
   "source": [
    "df.info()"
   ]
  },
  {
   "cell_type": "code",
   "execution_count": 8,
   "id": "110746fd",
   "metadata": {
    "scrolled": false
   },
   "outputs": [
    {
     "data": {
      "text/plain": [
       "SK_ID_CURR                 0\n",
       "TARGET                     0\n",
       "NAME_CONTRACT_TYPE         0\n",
       "GENDER                     0\n",
       "Car                        0\n",
       "House                      0\n",
       "CNT_CHILDREN               0\n",
       "AMT_INCOME_TOTAL           0\n",
       "AMT_CREDIT                 0\n",
       "AMT_GOODS_PRICE           81\n",
       "NAME_TYPE_SUITE          405\n",
       "NAME_INCOME_TYPE           0\n",
       "NAME_EDUCATION_TYPE        0\n",
       "NAME_FAMILY_STATUS         0\n",
       "DAYS_EMPLOYED              0\n",
       "MOBILE                     0\n",
       "WORK_PHONE                 0\n",
       "HOME_PHONE                 0\n",
       "MOBILE_REACHABLE           0\n",
       "FLAG_EMAIL                 0\n",
       "OCCUPATION_TYPE        31224\n",
       "CNT_FAM_MEMBERS            1\n",
       "APPLICATION_DAY            0\n",
       "TOTAL_DOC_SUBMITTED        0\n",
       "dtype: int64"
      ]
     },
     "execution_count": 8,
     "metadata": {},
     "output_type": "execute_result"
    }
   ],
   "source": [
    "df.isnull().sum()"
   ]
  },
  {
   "cell_type": "markdown",
   "id": "07452b60",
   "metadata": {},
   "source": [
    "### Data cleaning "
   ]
  },
  {
   "cell_type": "code",
   "execution_count": 9,
   "id": "bc3c1cee",
   "metadata": {},
   "outputs": [],
   "source": [
    "df['NAME_TYPE_SUITE']=df['NAME_TYPE_SUITE'].astype(pd.StringDtype())"
   ]
  },
  {
   "cell_type": "code",
   "execution_count": 10,
   "id": "bdd7adc4",
   "metadata": {},
   "outputs": [],
   "source": [
    "df['NAME_CONTRACT_TYPE']=df['NAME_CONTRACT_TYPE'].astype(pd.StringDtype())\n",
    "df['GENDER']=df['GENDER'].astype(pd.StringDtype())\n",
    "df['Car']=df['Car'].astype(pd.StringDtype())\n",
    "df['House']=df['House'].astype(pd.StringDtype())\n",
    "df['NAME_INCOME_TYPE']=df['NAME_INCOME_TYPE'].astype(pd.StringDtype())\n",
    "df['NAME_EDUCATION_TYPE']=df['NAME_EDUCATION_TYPE'].astype(pd.StringDtype())\n",
    "df['NAME_FAMILY_STATUS']=df['NAME_FAMILY_STATUS'].astype(pd.StringDtype())\n",
    "df['OCCUPATION_TYPE']=df['OCCUPATION_TYPE'].astype(pd.StringDtype())"
   ]
  },
  {
   "cell_type": "code",
   "execution_count": 11,
   "id": "90259a31",
   "metadata": {},
   "outputs": [
    {
     "data": {
      "text/plain": [
       "0    Unaccompanied\n",
       "Name: NAME_TYPE_SUITE, dtype: string"
      ]
     },
     "execution_count": 11,
     "metadata": {},
     "output_type": "execute_result"
    }
   ],
   "source": [
    "df['NAME_TYPE_SUITE'].mode()"
   ]
  },
  {
   "cell_type": "code",
   "execution_count": 12,
   "id": "e5a11962",
   "metadata": {},
   "outputs": [],
   "source": [
    "df['NAME_TYPE_SUITE'].fillna('Unaccompanied',inplace=True)"
   ]
  },
  {
   "cell_type": "code",
   "execution_count": 13,
   "id": "31f042da",
   "metadata": {},
   "outputs": [
    {
     "data": {
      "text/plain": [
       "<StringArray>\n",
       "[             'Laborers',            'Core staff',           'Accountants',\n",
       "              'Managers',                    <NA>,               'Drivers',\n",
       "           'Sales staff',        'Cleaning staff',         'Cooking staff',\n",
       " 'Private service staff',        'Medicine staff',        'Security staff',\n",
       " 'High skill tech staff',  'Waiters/barmen staff',    'Low-skill Laborers',\n",
       "         'Realty agents',           'Secretaries',              'IT staff',\n",
       "              'HR staff']\n",
       "Length: 19, dtype: string"
      ]
     },
     "execution_count": 13,
     "metadata": {},
     "output_type": "execute_result"
    }
   ],
   "source": [
    "df['OCCUPATION_TYPE'].unique()"
   ]
  },
  {
   "cell_type": "code",
   "execution_count": 14,
   "id": "9f771418",
   "metadata": {},
   "outputs": [
    {
     "data": {
      "text/plain": [
       "<StringArray>\n",
       "[           'Pensioner',        'State servant', 'Commercial associate',\n",
       "              'Working',           'Unemployed',              'Student',\n",
       "      'Maternity leave']\n",
       "Length: 7, dtype: string"
      ]
     },
     "execution_count": 14,
     "metadata": {},
     "output_type": "execute_result"
    }
   ],
   "source": [
    "df[df['OCCUPATION_TYPE'].isnull()]['NAME_INCOME_TYPE'].unique()"
   ]
  },
  {
   "cell_type": "code",
   "execution_count": 15,
   "id": "ebd18a25",
   "metadata": {
    "scrolled": true
   },
   "outputs": [
    {
     "data": {
      "text/plain": [
       "NAME_INCOME_TYPE\n",
       "Working                 51902\n",
       "Commercial associate    23217\n",
       "Pensioner               17857\n",
       "State servant            7000\n",
       "Unemployed                 10\n",
       "Student                     9\n",
       "Businessman                 4\n",
       "Maternity leave             1\n",
       "Name: NAME_INCOME_TYPE, dtype: int64"
      ]
     },
     "execution_count": 15,
     "metadata": {},
     "output_type": "execute_result"
    }
   ],
   "source": [
    "a=df.groupby(['NAME_INCOME_TYPE'])['NAME_INCOME_TYPE'].count()\n",
    "a.sort_values(ascending=False)"
   ]
  },
  {
   "cell_type": "code",
   "execution_count": 16,
   "id": "57b8f694",
   "metadata": {
    "scrolled": true
   },
   "outputs": [
    {
     "data": {
      "text/plain": [
       "NAME_INCOME_TYPE\n",
       "Working                 51902\n",
       "Commercial associate    23217\n",
       "Pensioner               17857\n",
       "State servant            7000\n",
       "Unemployed                 10\n",
       "Student                     9\n",
       "Businessman                 4\n",
       "Maternity leave             1\n",
       "Name: NAME_INCOME_TYPE, dtype: int64"
      ]
     },
     "execution_count": 16,
     "metadata": {},
     "output_type": "execute_result"
    }
   ],
   "source": [
    "a=df.groupby(['NAME_INCOME_TYPE'])['NAME_INCOME_TYPE'].count()\n",
    "a.sort_values(ascending=False)"
   ]
  },
  {
   "cell_type": "markdown",
   "id": "1f63b2a7",
   "metadata": {},
   "source": [
    "#### we are creating a data frame which excludes the unemployed, student, bussiness man and maternity leave ,because they  are having a very small portion in the data , and it will not make any differance in the data"
   ]
  },
  {
   "cell_type": "code",
   "execution_count": 17,
   "id": "664e9655",
   "metadata": {
    "scrolled": true
   },
   "outputs": [
    {
     "data": {
      "text/html": [
       "<div>\n",
       "<style scoped>\n",
       "    .dataframe tbody tr th:only-of-type {\n",
       "        vertical-align: middle;\n",
       "    }\n",
       "\n",
       "    .dataframe tbody tr th {\n",
       "        vertical-align: top;\n",
       "    }\n",
       "\n",
       "    .dataframe thead th {\n",
       "        text-align: right;\n",
       "    }\n",
       "</style>\n",
       "<table border=\"1\" class=\"dataframe\">\n",
       "  <thead>\n",
       "    <tr style=\"text-align: right;\">\n",
       "      <th></th>\n",
       "      <th>SK_ID_CURR</th>\n",
       "      <th>TARGET</th>\n",
       "      <th>NAME_CONTRACT_TYPE</th>\n",
       "      <th>GENDER</th>\n",
       "      <th>Car</th>\n",
       "      <th>House</th>\n",
       "      <th>CNT_CHILDREN</th>\n",
       "      <th>AMT_INCOME_TOTAL</th>\n",
       "      <th>AMT_CREDIT</th>\n",
       "      <th>AMT_GOODS_PRICE</th>\n",
       "      <th>...</th>\n",
       "      <th>DAYS_EMPLOYED</th>\n",
       "      <th>MOBILE</th>\n",
       "      <th>WORK_PHONE</th>\n",
       "      <th>HOME_PHONE</th>\n",
       "      <th>MOBILE_REACHABLE</th>\n",
       "      <th>FLAG_EMAIL</th>\n",
       "      <th>OCCUPATION_TYPE</th>\n",
       "      <th>CNT_FAM_MEMBERS</th>\n",
       "      <th>APPLICATION_DAY</th>\n",
       "      <th>TOTAL_DOC_SUBMITTED</th>\n",
       "    </tr>\n",
       "  </thead>\n",
       "  <tbody>\n",
       "    <tr>\n",
       "      <th>0</th>\n",
       "      <td>100002</td>\n",
       "      <td>1</td>\n",
       "      <td>Cash loans</td>\n",
       "      <td>M</td>\n",
       "      <td>N</td>\n",
       "      <td>Y</td>\n",
       "      <td>0</td>\n",
       "      <td>202500.0</td>\n",
       "      <td>406597.5</td>\n",
       "      <td>351000.0</td>\n",
       "      <td>...</td>\n",
       "      <td>-637</td>\n",
       "      <td>1</td>\n",
       "      <td>1</td>\n",
       "      <td>0</td>\n",
       "      <td>1</td>\n",
       "      <td>0</td>\n",
       "      <td>Laborers</td>\n",
       "      <td>1.0</td>\n",
       "      <td>WEDNESDAY</td>\n",
       "      <td>1</td>\n",
       "    </tr>\n",
       "    <tr>\n",
       "      <th>1</th>\n",
       "      <td>100003</td>\n",
       "      <td>0</td>\n",
       "      <td>Cash loans</td>\n",
       "      <td>F</td>\n",
       "      <td>N</td>\n",
       "      <td>N</td>\n",
       "      <td>0</td>\n",
       "      <td>270000.0</td>\n",
       "      <td>1293502.5</td>\n",
       "      <td>1129500.0</td>\n",
       "      <td>...</td>\n",
       "      <td>-1188</td>\n",
       "      <td>1</td>\n",
       "      <td>1</td>\n",
       "      <td>0</td>\n",
       "      <td>1</td>\n",
       "      <td>0</td>\n",
       "      <td>Core staff</td>\n",
       "      <td>2.0</td>\n",
       "      <td>MONDAY</td>\n",
       "      <td>1</td>\n",
       "    </tr>\n",
       "    <tr>\n",
       "      <th>2</th>\n",
       "      <td>100004</td>\n",
       "      <td>0</td>\n",
       "      <td>Revolving loans</td>\n",
       "      <td>M</td>\n",
       "      <td>Y</td>\n",
       "      <td>Y</td>\n",
       "      <td>0</td>\n",
       "      <td>67500.0</td>\n",
       "      <td>135000.0</td>\n",
       "      <td>135000.0</td>\n",
       "      <td>...</td>\n",
       "      <td>-225</td>\n",
       "      <td>1</td>\n",
       "      <td>1</td>\n",
       "      <td>1</td>\n",
       "      <td>1</td>\n",
       "      <td>0</td>\n",
       "      <td>Laborers</td>\n",
       "      <td>1.0</td>\n",
       "      <td>MONDAY</td>\n",
       "      <td>0</td>\n",
       "    </tr>\n",
       "    <tr>\n",
       "      <th>3</th>\n",
       "      <td>100006</td>\n",
       "      <td>0</td>\n",
       "      <td>Cash loans</td>\n",
       "      <td>F</td>\n",
       "      <td>N</td>\n",
       "      <td>Y</td>\n",
       "      <td>0</td>\n",
       "      <td>135000.0</td>\n",
       "      <td>312682.5</td>\n",
       "      <td>297000.0</td>\n",
       "      <td>...</td>\n",
       "      <td>-3039</td>\n",
       "      <td>1</td>\n",
       "      <td>1</td>\n",
       "      <td>0</td>\n",
       "      <td>1</td>\n",
       "      <td>0</td>\n",
       "      <td>Laborers</td>\n",
       "      <td>2.0</td>\n",
       "      <td>WEDNESDAY</td>\n",
       "      <td>1</td>\n",
       "    </tr>\n",
       "    <tr>\n",
       "      <th>4</th>\n",
       "      <td>100007</td>\n",
       "      <td>0</td>\n",
       "      <td>Cash loans</td>\n",
       "      <td>M</td>\n",
       "      <td>N</td>\n",
       "      <td>Y</td>\n",
       "      <td>0</td>\n",
       "      <td>121500.0</td>\n",
       "      <td>513000.0</td>\n",
       "      <td>513000.0</td>\n",
       "      <td>...</td>\n",
       "      <td>-3038</td>\n",
       "      <td>1</td>\n",
       "      <td>1</td>\n",
       "      <td>0</td>\n",
       "      <td>1</td>\n",
       "      <td>0</td>\n",
       "      <td>Core staff</td>\n",
       "      <td>1.0</td>\n",
       "      <td>THURSDAY</td>\n",
       "      <td>1</td>\n",
       "    </tr>\n",
       "    <tr>\n",
       "      <th>...</th>\n",
       "      <td>...</td>\n",
       "      <td>...</td>\n",
       "      <td>...</td>\n",
       "      <td>...</td>\n",
       "      <td>...</td>\n",
       "      <td>...</td>\n",
       "      <td>...</td>\n",
       "      <td>...</td>\n",
       "      <td>...</td>\n",
       "      <td>...</td>\n",
       "      <td>...</td>\n",
       "      <td>...</td>\n",
       "      <td>...</td>\n",
       "      <td>...</td>\n",
       "      <td>...</td>\n",
       "      <td>...</td>\n",
       "      <td>...</td>\n",
       "      <td>...</td>\n",
       "      <td>...</td>\n",
       "      <td>...</td>\n",
       "      <td>...</td>\n",
       "    </tr>\n",
       "    <tr>\n",
       "      <th>99995</th>\n",
       "      <td>216086</td>\n",
       "      <td>0</td>\n",
       "      <td>Cash loans</td>\n",
       "      <td>F</td>\n",
       "      <td>N</td>\n",
       "      <td>Y</td>\n",
       "      <td>1</td>\n",
       "      <td>157500.0</td>\n",
       "      <td>755190.0</td>\n",
       "      <td>675000.0</td>\n",
       "      <td>...</td>\n",
       "      <td>-232</td>\n",
       "      <td>1</td>\n",
       "      <td>1</td>\n",
       "      <td>1</td>\n",
       "      <td>1</td>\n",
       "      <td>0</td>\n",
       "      <td>Sales staff</td>\n",
       "      <td>3.0</td>\n",
       "      <td>MONDAY</td>\n",
       "      <td>1</td>\n",
       "    </tr>\n",
       "    <tr>\n",
       "      <th>99996</th>\n",
       "      <td>216087</td>\n",
       "      <td>0</td>\n",
       "      <td>Cash loans</td>\n",
       "      <td>F</td>\n",
       "      <td>N</td>\n",
       "      <td>Y</td>\n",
       "      <td>1</td>\n",
       "      <td>225000.0</td>\n",
       "      <td>284400.0</td>\n",
       "      <td>225000.0</td>\n",
       "      <td>...</td>\n",
       "      <td>-182</td>\n",
       "      <td>1</td>\n",
       "      <td>1</td>\n",
       "      <td>0</td>\n",
       "      <td>1</td>\n",
       "      <td>0</td>\n",
       "      <td>Managers</td>\n",
       "      <td>3.0</td>\n",
       "      <td>TUESDAY</td>\n",
       "      <td>1</td>\n",
       "    </tr>\n",
       "    <tr>\n",
       "      <th>99997</th>\n",
       "      <td>216088</td>\n",
       "      <td>0</td>\n",
       "      <td>Cash loans</td>\n",
       "      <td>F</td>\n",
       "      <td>Y</td>\n",
       "      <td>Y</td>\n",
       "      <td>0</td>\n",
       "      <td>135000.0</td>\n",
       "      <td>1262583.0</td>\n",
       "      <td>1102500.0</td>\n",
       "      <td>...</td>\n",
       "      <td>-4805</td>\n",
       "      <td>1</td>\n",
       "      <td>1</td>\n",
       "      <td>0</td>\n",
       "      <td>1</td>\n",
       "      <td>0</td>\n",
       "      <td>Sales staff</td>\n",
       "      <td>2.0</td>\n",
       "      <td>TUESDAY</td>\n",
       "      <td>1</td>\n",
       "    </tr>\n",
       "    <tr>\n",
       "      <th>99998</th>\n",
       "      <td>216089</td>\n",
       "      <td>0</td>\n",
       "      <td>Cash loans</td>\n",
       "      <td>F</td>\n",
       "      <td>Y</td>\n",
       "      <td>N</td>\n",
       "      <td>0</td>\n",
       "      <td>135000.0</td>\n",
       "      <td>225000.0</td>\n",
       "      <td>225000.0</td>\n",
       "      <td>...</td>\n",
       "      <td>-340</td>\n",
       "      <td>1</td>\n",
       "      <td>1</td>\n",
       "      <td>0</td>\n",
       "      <td>1</td>\n",
       "      <td>0</td>\n",
       "      <td>Sales staff</td>\n",
       "      <td>2.0</td>\n",
       "      <td>FRIDAY</td>\n",
       "      <td>2</td>\n",
       "    </tr>\n",
       "    <tr>\n",
       "      <th>99999</th>\n",
       "      <td>216090</td>\n",
       "      <td>0</td>\n",
       "      <td>Revolving loans</td>\n",
       "      <td>M</td>\n",
       "      <td>Y</td>\n",
       "      <td>Y</td>\n",
       "      <td>0</td>\n",
       "      <td>202500.0</td>\n",
       "      <td>337500.0</td>\n",
       "      <td>337500.0</td>\n",
       "      <td>...</td>\n",
       "      <td>-3230</td>\n",
       "      <td>1</td>\n",
       "      <td>1</td>\n",
       "      <td>1</td>\n",
       "      <td>1</td>\n",
       "      <td>0</td>\n",
       "      <td>Drivers</td>\n",
       "      <td>2.0</td>\n",
       "      <td>SATURDAY</td>\n",
       "      <td>0</td>\n",
       "    </tr>\n",
       "  </tbody>\n",
       "</table>\n",
       "<p>99976 rows × 24 columns</p>\n",
       "</div>"
      ],
      "text/plain": [
       "       SK_ID_CURR  TARGET NAME_CONTRACT_TYPE GENDER Car House  CNT_CHILDREN  \\\n",
       "0          100002       1         Cash loans      M   N     Y             0   \n",
       "1          100003       0         Cash loans      F   N     N             0   \n",
       "2          100004       0    Revolving loans      M   Y     Y             0   \n",
       "3          100006       0         Cash loans      F   N     Y             0   \n",
       "4          100007       0         Cash loans      M   N     Y             0   \n",
       "...           ...     ...                ...    ...  ..   ...           ...   \n",
       "99995      216086       0         Cash loans      F   N     Y             1   \n",
       "99996      216087       0         Cash loans      F   N     Y             1   \n",
       "99997      216088       0         Cash loans      F   Y     Y             0   \n",
       "99998      216089       0         Cash loans      F   Y     N             0   \n",
       "99999      216090       0    Revolving loans      M   Y     Y             0   \n",
       "\n",
       "       AMT_INCOME_TOTAL  AMT_CREDIT  AMT_GOODS_PRICE  ... DAYS_EMPLOYED  \\\n",
       "0              202500.0    406597.5         351000.0  ...          -637   \n",
       "1              270000.0   1293502.5        1129500.0  ...         -1188   \n",
       "2               67500.0    135000.0         135000.0  ...          -225   \n",
       "3              135000.0    312682.5         297000.0  ...         -3039   \n",
       "4              121500.0    513000.0         513000.0  ...         -3038   \n",
       "...                 ...         ...              ...  ...           ...   \n",
       "99995          157500.0    755190.0         675000.0  ...          -232   \n",
       "99996          225000.0    284400.0         225000.0  ...          -182   \n",
       "99997          135000.0   1262583.0        1102500.0  ...         -4805   \n",
       "99998          135000.0    225000.0         225000.0  ...          -340   \n",
       "99999          202500.0    337500.0         337500.0  ...         -3230   \n",
       "\n",
       "      MOBILE WORK_PHONE HOME_PHONE  MOBILE_REACHABLE  FLAG_EMAIL  \\\n",
       "0          1          1          0                 1           0   \n",
       "1          1          1          0                 1           0   \n",
       "2          1          1          1                 1           0   \n",
       "3          1          1          0                 1           0   \n",
       "4          1          1          0                 1           0   \n",
       "...      ...        ...        ...               ...         ...   \n",
       "99995      1          1          1                 1           0   \n",
       "99996      1          1          0                 1           0   \n",
       "99997      1          1          0                 1           0   \n",
       "99998      1          1          0                 1           0   \n",
       "99999      1          1          1                 1           0   \n",
       "\n",
       "       OCCUPATION_TYPE  CNT_FAM_MEMBERS  APPLICATION_DAY  TOTAL_DOC_SUBMITTED  \n",
       "0             Laborers              1.0        WEDNESDAY                    1  \n",
       "1           Core staff              2.0           MONDAY                    1  \n",
       "2             Laborers              1.0           MONDAY                    0  \n",
       "3             Laborers              2.0        WEDNESDAY                    1  \n",
       "4           Core staff              1.0         THURSDAY                    1  \n",
       "...                ...              ...              ...                  ...  \n",
       "99995      Sales staff              3.0           MONDAY                    1  \n",
       "99996         Managers              3.0          TUESDAY                    1  \n",
       "99997      Sales staff              2.0          TUESDAY                    1  \n",
       "99998      Sales staff              2.0           FRIDAY                    2  \n",
       "99999          Drivers              2.0         SATURDAY                    0  \n",
       "\n",
       "[99976 rows x 24 columns]"
      ]
     },
     "execution_count": 17,
     "metadata": {},
     "output_type": "execute_result"
    }
   ],
   "source": [
    "loan_df=df[((df.NAME_INCOME_TYPE==\"Working\") | (df.NAME_INCOME_TYPE==\"State servant\") |(df.NAME_INCOME_TYPE==\"Pensioner\")| (df.NAME_INCOME_TYPE==\"Commercial associate\"))]\n",
    "loan_df\n"
   ]
  },
  {
   "cell_type": "code",
   "execution_count": 18,
   "id": "a02b3f6f",
   "metadata": {},
   "outputs": [
    {
     "data": {
      "text/plain": [
       "<StringArray>\n",
       "[          'Accountants',           'Sales staff',                    <NA>,\n",
       "               'Drivers', 'Private service staff',              'Laborers',\n",
       "              'Managers',            'Core staff',         'Realty agents',\n",
       "        'Cleaning staff',           'Secretaries', 'High skill tech staff',\n",
       "        'Medicine staff',         'Cooking staff',              'IT staff',\n",
       "    'Low-skill Laborers',        'Security staff',              'HR staff',\n",
       "  'Waiters/barmen staff']\n",
       "Length: 19, dtype: string"
      ]
     },
     "execution_count": 18,
     "metadata": {},
     "output_type": "execute_result"
    }
   ],
   "source": [
    "loan_df[loan_df['NAME_INCOME_TYPE']=='Commercial associate']['OCCUPATION_TYPE'].unique()"
   ]
  },
  {
   "cell_type": "code",
   "execution_count": 19,
   "id": "7541e4d5",
   "metadata": {},
   "outputs": [
    {
     "data": {
      "text/plain": [
       "<StringArray>\n",
       "[             'Laborers',            'Core staff',               'Drivers',\n",
       "           'Sales staff',        'Cleaning staff',         'Cooking staff',\n",
       " 'Private service staff',              'Managers',                    <NA>,\n",
       "        'Medicine staff',        'Security staff',  'Waiters/barmen staff',\n",
       "    'Low-skill Laborers', 'High skill tech staff',           'Secretaries',\n",
       "           'Accountants',         'Realty agents',              'IT staff',\n",
       "              'HR staff']\n",
       "Length: 19, dtype: string"
      ]
     },
     "execution_count": 19,
     "metadata": {},
     "output_type": "execute_result"
    }
   ],
   "source": [
    "loan_df[loan_df['NAME_INCOME_TYPE']=='Working']['OCCUPATION_TYPE'].unique()"
   ]
  },
  {
   "cell_type": "code",
   "execution_count": 20,
   "id": "923f9589",
   "metadata": {
    "scrolled": true
   },
   "outputs": [
    {
     "data": {
      "text/plain": [
       "<StringArray>\n",
       "[           'Core staff',              'Laborers',              'Managers',\n",
       "                    <NA>, 'High skill tech staff',        'Medicine staff',\n",
       "         'Cooking staff',           'Accountants',        'Security staff',\n",
       "           'Sales staff',           'Secretaries',               'Drivers',\n",
       "              'HR staff',        'Cleaning staff',  'Waiters/barmen staff',\n",
       " 'Private service staff',              'IT staff',         'Realty agents',\n",
       "    'Low-skill Laborers']\n",
       "Length: 19, dtype: string"
      ]
     },
     "execution_count": 20,
     "metadata": {},
     "output_type": "execute_result"
    }
   ],
   "source": [
    "loan_df[loan_df['NAME_INCOME_TYPE']=='State servant']['OCCUPATION_TYPE'].unique()"
   ]
  },
  {
   "cell_type": "code",
   "execution_count": 21,
   "id": "b46c3695",
   "metadata": {},
   "outputs": [
    {
     "data": {
      "text/plain": [
       "<StringArray>\n",
       "[<NA>]\n",
       "Length: 1, dtype: string"
      ]
     },
     "execution_count": 21,
     "metadata": {},
     "output_type": "execute_result"
    }
   ],
   "source": [
    "loan_df[loan_df['NAME_INCOME_TYPE']=='Pensioner']['OCCUPATION_TYPE'].unique()"
   ]
  },
  {
   "cell_type": "code",
   "execution_count": 22,
   "id": "dd1022fa",
   "metadata": {},
   "outputs": [
    {
     "data": {
      "text/plain": [
       "0    Core staff\n",
       "Name: OCCUPATION_TYPE, dtype: string"
      ]
     },
     "execution_count": 22,
     "metadata": {},
     "output_type": "execute_result"
    }
   ],
   "source": [
    "#filling the null values in occupation type\n",
    "loan_df[loan_df['NAME_INCOME_TYPE']=='State servant']['OCCUPATION_TYPE'].mode()"
   ]
  },
  {
   "cell_type": "code",
   "execution_count": 23,
   "id": "ef7c8ec3",
   "metadata": {},
   "outputs": [
    {
     "data": {
      "text/plain": [
       "0    Laborers\n",
       "Name: OCCUPATION_TYPE, dtype: string"
      ]
     },
     "execution_count": 23,
     "metadata": {},
     "output_type": "execute_result"
    }
   ],
   "source": [
    "loan_df[loan_df['NAME_INCOME_TYPE']=='Commercial associate']['OCCUPATION_TYPE'].mode()"
   ]
  },
  {
   "cell_type": "code",
   "execution_count": 24,
   "id": "d6ac3656",
   "metadata": {},
   "outputs": [
    {
     "data": {
      "text/plain": [
       "0    Laborers\n",
       "Name: OCCUPATION_TYPE, dtype: string"
      ]
     },
     "execution_count": 24,
     "metadata": {},
     "output_type": "execute_result"
    }
   ],
   "source": [
    "loan_df[loan_df['NAME_INCOME_TYPE']=='Working']['OCCUPATION_TYPE'].mode()"
   ]
  },
  {
   "cell_type": "code",
   "execution_count": 25,
   "id": "cdebb3d0",
   "metadata": {},
   "outputs": [],
   "source": [
    "miss_fill=df['OCCUPATION_TYPE'].isnull()"
   ]
  },
  {
   "cell_type": "code",
   "execution_count": 26,
   "id": "aad0bb91",
   "metadata": {},
   "outputs": [],
   "source": [
    "loan_df.loc[miss_fill,'OCCUPATION_TYPE']=np.where(loan_df.loc[miss_fill,'NAME_INCOME_TYPE'].eq('State servant'),'Core staff','Laborers')"
   ]
  },
  {
   "cell_type": "code",
   "execution_count": 27,
   "id": "d00fe380",
   "metadata": {},
   "outputs": [],
   "source": [
    "df['OCCUPATION_TYPE'][df.NAME_INCOME_TYPE=='Pensioner']='Pensioner'"
   ]
  },
  {
   "cell_type": "code",
   "execution_count": 28,
   "id": "ec733d64",
   "metadata": {},
   "outputs": [
    {
     "name": "stderr",
     "output_type": "stream",
     "text": [
      "C:\\Users\\ASUS\\AppData\\Local\\Temp\\ipykernel_15472\\2446793413.py:1: SettingWithCopyWarning: \n",
      "A value is trying to be set on a copy of a slice from a DataFrame\n",
      "\n",
      "See the caveats in the documentation: https://pandas.pydata.org/pandas-docs/stable/user_guide/indexing.html#returning-a-view-versus-a-copy\n",
      "  loan_df.AMT_GOODS_PRICE.fillna(loan_df.AMT_CREDIT,inplace=True)\n"
     ]
    }
   ],
   "source": [
    "loan_df.AMT_GOODS_PRICE.fillna(loan_df.AMT_CREDIT,inplace=True)"
   ]
  },
  {
   "cell_type": "code",
   "execution_count": 29,
   "id": "9b4c4cf2",
   "metadata": {
    "scrolled": false
   },
   "outputs": [
    {
     "data": {
      "text/plain": [
       "SK_ID_CURR             0\n",
       "TARGET                 0\n",
       "NAME_CONTRACT_TYPE     0\n",
       "GENDER                 0\n",
       "Car                    0\n",
       "House                  0\n",
       "CNT_CHILDREN           0\n",
       "AMT_INCOME_TOTAL       0\n",
       "AMT_CREDIT             0\n",
       "AMT_GOODS_PRICE        0\n",
       "NAME_TYPE_SUITE        0\n",
       "NAME_INCOME_TYPE       0\n",
       "NAME_EDUCATION_TYPE    0\n",
       "NAME_FAMILY_STATUS     0\n",
       "DAYS_EMPLOYED          0\n",
       "MOBILE                 0\n",
       "WORK_PHONE             0\n",
       "HOME_PHONE             0\n",
       "MOBILE_REACHABLE       0\n",
       "FLAG_EMAIL             0\n",
       "OCCUPATION_TYPE        0\n",
       "CNT_FAM_MEMBERS        1\n",
       "APPLICATION_DAY        0\n",
       "TOTAL_DOC_SUBMITTED    0\n",
       "dtype: int64"
      ]
     },
     "execution_count": 29,
     "metadata": {},
     "output_type": "execute_result"
    }
   ],
   "source": [
    "loan_df.isnull().sum()"
   ]
  },
  {
   "cell_type": "markdown",
   "id": "1eec1681",
   "metadata": {},
   "source": [
    "##### we had eliminated or filled all the null values in proper ways"
   ]
  },
  {
   "cell_type": "code",
   "execution_count": 30,
   "id": "f60ee624",
   "metadata": {},
   "outputs": [
    {
     "data": {
      "text/html": [
       "<div>\n",
       "<style scoped>\n",
       "    .dataframe tbody tr th:only-of-type {\n",
       "        vertical-align: middle;\n",
       "    }\n",
       "\n",
       "    .dataframe tbody tr th {\n",
       "        vertical-align: top;\n",
       "    }\n",
       "\n",
       "    .dataframe thead th {\n",
       "        text-align: right;\n",
       "    }\n",
       "</style>\n",
       "<table border=\"1\" class=\"dataframe\">\n",
       "  <thead>\n",
       "    <tr style=\"text-align: right;\">\n",
       "      <th></th>\n",
       "      <th>SK_ID_CURR</th>\n",
       "      <th>TARGET</th>\n",
       "      <th>NAME_CONTRACT_TYPE</th>\n",
       "      <th>GENDER</th>\n",
       "      <th>Car</th>\n",
       "      <th>House</th>\n",
       "      <th>CNT_CHILDREN</th>\n",
       "      <th>AMT_INCOME_TOTAL</th>\n",
       "      <th>AMT_CREDIT</th>\n",
       "      <th>AMT_GOODS_PRICE</th>\n",
       "      <th>...</th>\n",
       "      <th>DAYS_EMPLOYED</th>\n",
       "      <th>MOBILE</th>\n",
       "      <th>WORK_PHONE</th>\n",
       "      <th>HOME_PHONE</th>\n",
       "      <th>MOBILE_REACHABLE</th>\n",
       "      <th>FLAG_EMAIL</th>\n",
       "      <th>OCCUPATION_TYPE</th>\n",
       "      <th>CNT_FAM_MEMBERS</th>\n",
       "      <th>APPLICATION_DAY</th>\n",
       "      <th>TOTAL_DOC_SUBMITTED</th>\n",
       "    </tr>\n",
       "  </thead>\n",
       "  <tbody>\n",
       "  </tbody>\n",
       "</table>\n",
       "<p>0 rows × 24 columns</p>\n",
       "</div>"
      ],
      "text/plain": [
       "Empty DataFrame\n",
       "Columns: [SK_ID_CURR, TARGET, NAME_CONTRACT_TYPE, GENDER, Car, House, CNT_CHILDREN, AMT_INCOME_TOTAL, AMT_CREDIT, AMT_GOODS_PRICE, NAME_TYPE_SUITE, NAME_INCOME_TYPE, NAME_EDUCATION_TYPE, NAME_FAMILY_STATUS, DAYS_EMPLOYED, MOBILE, WORK_PHONE, HOME_PHONE, MOBILE_REACHABLE, FLAG_EMAIL, OCCUPATION_TYPE, CNT_FAM_MEMBERS, APPLICATION_DAY, TOTAL_DOC_SUBMITTED]\n",
       "Index: []\n",
       "\n",
       "[0 rows x 24 columns]"
      ]
     },
     "execution_count": 30,
     "metadata": {},
     "output_type": "execute_result"
    }
   ],
   "source": [
    "#checking for any kind of duplicate values.\n",
    "duplicate=loan_df[loan_df.duplicated()]\n",
    "duplicate"
   ]
  },
  {
   "cell_type": "code",
   "execution_count": 31,
   "id": "2586ea0c",
   "metadata": {},
   "outputs": [
    {
     "name": "stdout",
     "output_type": "stream",
     "text": [
      "categorical          continuous\n",
      "-------------------  ----------------\n",
      "TARGET               SK_ID_CURR\n",
      "NAME_CONTRACT_TYPE   AMT_INCOME_TOTAL\n",
      "GENDER               AMT_CREDIT\n",
      "Car                  AMT_GOODS_PRICE\n",
      "House                DAYS_EMPLOYED\n",
      "CNT_CHILDREN\n",
      "NAME_TYPE_SUITE\n",
      "NAME_INCOME_TYPE\n",
      "NAME_EDUCATION_TYPE\n",
      "NAME_FAMILY_STATUS\n",
      "MOBILE\n",
      "WORK_PHONE\n",
      "HOME_PHONE\n",
      "MOBILE_REACHABLE\n",
      "FLAG_EMAIL\n",
      "OCCUPATION_TYPE\n",
      "CNT_FAM_MEMBERS\n",
      "APPLICATION_DAY\n",
      "TOTAL_DOC_SUBMITTED\n"
     ]
    }
   ],
   "source": [
    "def seprate_data_types(loan_df):\n",
    "    categorical = []\n",
    "    continuous = []\n",
    "    for column in df.columns:     \n",
    "        if df[column].nunique() < 100:     \n",
    "                                                    \n",
    "            categorical.append(column)\n",
    "        else:\n",
    "            continuous.append(column)\n",
    "            \n",
    "    return categorical, continuous \n",
    "\n",
    "\n",
    "categorical, continuous = seprate_data_types(df)       \n",
    "\n",
    "from tabulate import tabulate\n",
    "table = [categorical, continuous]\n",
    "print(tabulate({\"Categorical\":categorical,\n",
    "                \"Continuous\": continuous}, headers = [\"categorical\", \"continuous\"]))"
   ]
  },
  {
   "cell_type": "code",
   "execution_count": 32,
   "id": "63dde02c",
   "metadata": {},
   "outputs": [],
   "source": [
    "def info_of_cat(col): \n",
    "    print('Unique values in are:' ,loan_df[col].unique())\n",
    "    print('Mode of  is', loan_df[col].mode()[0]) \n",
    "    print('Number of missing values in  is:', loan_df[col].isnull().sum()) \n",
    "    if loan_df[col].isnull().sum() > 0:  \n",
    "        print(f\"\\nThere are null values in the {col} column\")"
   ]
  },
  {
   "cell_type": "markdown",
   "id": "02b0cc8c",
   "metadata": {},
   "source": [
    "# $leval 1-analysis$"
   ]
  },
  {
   "cell_type": "markdown",
   "id": "3009172b",
   "metadata": {},
   "source": [
    "### Analysis on target"
   ]
  },
  {
   "cell_type": "code",
   "execution_count": 33,
   "id": "8d902b6e",
   "metadata": {
    "scrolled": true
   },
   "outputs": [
    {
     "name": "stdout",
     "output_type": "stream",
     "text": [
      "Unique values in are: [1 0]\n",
      "Mode of  is 0\n",
      "Number of missing values in  is: 0\n"
     ]
    },
    {
     "data": {
      "image/png": "[encoded data removed]",
      "text/plain": [
       "<Figure size 720x576 with 1 Axes>"
      ]
     },
     "metadata": {},
     "output_type": "display_data"
    }
   ],
   "source": [
    "info_of_cat('TARGET')\n",
    "ax=loan_df.groupby(['TARGET'])['TARGET'].count().plot.pie(title='TARGET',figsize=(10,8), autopct= \"%0.3f%%\",fontsize=14)"
   ]
  },
  {
   "cell_type": "markdown",
   "id": "c4cd8154",
   "metadata": {},
   "source": [
    "### Interpertaion:\n",
    "* 92% of the total loan payers are paying the ammount regularly without any flaws\n",
    "* 8% people are not making the targets,for some reasons."
   ]
  },
  {
   "cell_type": "markdown",
   "id": "072656da",
   "metadata": {},
   "source": [
    "### analysis on Loan contract type"
   ]
  },
  {
   "cell_type": "code",
   "execution_count": 34,
   "id": "a51ba894",
   "metadata": {
    "scrolled": true
   },
   "outputs": [
    {
     "name": "stdout",
     "output_type": "stream",
     "text": [
      "Unique values in are: <StringArray>\n",
      "['Cash loans', 'Revolving loans']\n",
      "Length: 2, dtype: string\n",
      "Mode of  is Cash loans\n",
      "Number of missing values in  is: 0\n"
     ]
    }
   ],
   "source": [
    "info_of_cat('NAME_CONTRACT_TYPE')"
   ]
  },
  {
   "cell_type": "code",
   "execution_count": 35,
   "id": "70e4dc74",
   "metadata": {
    "scrolled": false
   },
   "outputs": [
    {
     "data": {
      "text/plain": [
       "[Text(0, 0, '90502'), Text(0, 0, '9474')]"
      ]
     },
     "execution_count": 35,
     "metadata": {},
     "output_type": "execute_result"
    },
    {
     "data": {
      "image/png": "[encoded data removed]",
      "text/plain": [
       "<Figure size 720x432 with 1 Axes>"
      ]
     },
     "metadata": {
      "needs_background": "light"
     },
     "output_type": "display_data"
    }
   ],
   "source": [
    "fig, ax = plt.subplots(figsize= (10,6))\n",
    "ax = sns.countplot(x = loan_df[\"NAME_CONTRACT_TYPE\"])\n",
    "val1=loan_df['NAME_CONTRACT_TYPE'].value_counts(ascending=False).values\n",
    "ax.bar_label(container=ax.containers[0],label=val1)"
   ]
  },
  {
   "cell_type": "markdown",
   "id": "93f3a71b",
   "metadata": {},
   "source": [
    "### Interpertation:\n",
    "* Almost 90% of the loans are cash loans\n"
   ]
  },
  {
   "cell_type": "markdown",
   "id": "227eac44",
   "metadata": {},
   "source": [
    "###  Analysis on Gender"
   ]
  },
  {
   "cell_type": "code",
   "execution_count": 36,
   "id": "43f91170",
   "metadata": {
    "scrolled": true
   },
   "outputs": [
    {
     "name": "stdout",
     "output_type": "stream",
     "text": [
      "Unique values in are: <StringArray>\n",
      "['M', 'F', 'XNA']\n",
      "Length: 3, dtype: string\n",
      "Mode of  is F\n",
      "Number of missing values in  is: 0\n"
     ]
    }
   ],
   "source": [
    "info_of_cat('GENDER')"
   ]
  },
  {
   "cell_type": "code",
   "execution_count": 37,
   "id": "17207346",
   "metadata": {
    "scrolled": true
   },
   "outputs": [
    {
     "data": {
      "image/png": "[encoded data removed]",
      "text/plain": [
       "<Figure size 720x576 with 1 Axes>"
      ]
     },
     "metadata": {},
     "output_type": "display_data"
    }
   ],
   "source": [
    "ax=loan_df.groupby(['GENDER'])['GENDER'].count().plot.pie(title='GENDER',figsize=(10,8), autopct= \"%0.3f%%\",fontsize=14)"
   ]
  },
  {
   "cell_type": "markdown",
   "id": "e94e09c0",
   "metadata": {},
   "source": [
    "### Analysys on count of family members"
   ]
  },
  {
   "cell_type": "code",
   "execution_count": 38,
   "id": "be7a4f01",
   "metadata": {},
   "outputs": [
    {
     "name": "stdout",
     "output_type": "stream",
     "text": [
      "Unique values in are: [ 1.  2.  3.  4.  5.  6.  9.  7.  8. 10. 13. nan 14.]\n",
      "Mode of  is 2.0\n",
      "Number of missing values in  is: 1\n",
      "\n",
      "There are null values in the CNT_FAM_MEMBERS column\n"
     ]
    }
   ],
   "source": [
    "info_of_cat('CNT_FAM_MEMBERS')"
   ]
  },
  {
   "cell_type": "code",
   "execution_count": 39,
   "id": "bf06fc50",
   "metadata": {},
   "outputs": [
    {
     "name": "stderr",
     "output_type": "stream",
     "text": [
      "C:\\Users\\ASUS\\AppData\\Local\\Temp\\ipykernel_15472\\1356535282.py:1: SettingWithCopyWarning: \n",
      "A value is trying to be set on a copy of a slice from a DataFrame\n",
      "\n",
      "See the caveats in the documentation: https://pandas.pydata.org/pandas-docs/stable/user_guide/indexing.html#returning-a-view-versus-a-copy\n",
      "  loan_df[\"CNT_FAM_MEMBERS\"].fillna(2.0, inplace = True)\n"
     ]
    }
   ],
   "source": [
    "loan_df[\"CNT_FAM_MEMBERS\"].fillna(2.0, inplace = True)"
   ]
  },
  {
   "cell_type": "code",
   "execution_count": 40,
   "id": "8783f2d9",
   "metadata": {},
   "outputs": [
    {
     "name": "stdout",
     "output_type": "stream",
     "text": [
      "Unique values in are: [ 1.  2.  3.  4.  5.  6.  9.  7.  8. 10. 13. 14.]\n",
      "Mode of  is 2.0\n",
      "Number of missing values in  is: 0\n"
     ]
    }
   ],
   "source": [
    "info_of_cat('CNT_FAM_MEMBERS')"
   ]
  },
  {
   "cell_type": "code",
   "execution_count": 41,
   "id": "8710af54",
   "metadata": {
    "scrolled": false
   },
   "outputs": [
    {
     "data": {
      "image/png": "[encoded data removed]",
      "text/plain": [
       "<Figure size 1440x576 with 1 Axes>"
      ]
     },
     "metadata": {
      "needs_background": "light"
     },
     "output_type": "display_data"
    }
   ],
   "source": [
    "fig, ax = plt.subplots(figsize= (20, 8))\n",
    "ax = sns.countplot(x = loan_df[\"CNT_FAM_MEMBERS\"])\n",
    "for bar in ax.patches:\n",
    "    percentage = f\"{round(bar.get_height() /loan_df.shape[0]*100, 2)}%\"\n",
    "    x = bar.get_x() + bar.get_width() /2                        \n",
    "    y = bar.get_height()                                           \n",
    "    ax.annotate(percentage, (x, y), va = \"bottom\", ha =\"center\" )   \n",
    "                                                                    \n",
    "plt.show()"
   ]
  },
  {
   "cell_type": "markdown",
   "id": "47c3e70a",
   "metadata": {},
   "source": [
    "### Analysis on occupation type"
   ]
  },
  {
   "cell_type": "code",
   "execution_count": 42,
   "id": "1737bc7b",
   "metadata": {},
   "outputs": [
    {
     "name": "stdout",
     "output_type": "stream",
     "text": [
      "Unique values in are: <StringArray>\n",
      "['Working', 'State servant', 'Commercial associate', 'Pensioner']\n",
      "Length: 4, dtype: string\n",
      "Mode of  is Working\n",
      "Number of missing values in  is: 0\n"
     ]
    }
   ],
   "source": [
    "info_of_cat('NAME_INCOME_TYPE')"
   ]
  },
  {
   "cell_type": "code",
   "execution_count": 43,
   "id": "57d656ab",
   "metadata": {
    "scrolled": false
   },
   "outputs": [
    {
     "data": {
      "image/png": "[encoded data removed]",
      "text/plain": [
       "<Figure size 1080x576 with 1 Axes>"
      ]
     },
     "metadata": {
      "needs_background": "light"
     },
     "output_type": "display_data"
    }
   ],
   "source": [
    "fig,ax=plt.subplots(figsize=(15,8))\n",
    "ax=sns.countplot(x=loan_df['NAME_INCOME_TYPE'])\n",
    "for bar in ax.patches:\n",
    "    percentage = f\"{round(bar.get_height() /loan_df.shape[0]*100, 2)}%\"\n",
    "    x = bar.get_x() + bar.get_width() /2                        \n",
    "    y = bar.get_height()                                           \n",
    "    ax.annotate(percentage, (x, y), va = \"bottom\", ha =\"center\" )   \n",
    "                                                                    \n",
    "plt.show()"
   ]
  },
  {
   "cell_type": "code",
   "execution_count": 44,
   "id": "443e3bd2",
   "metadata": {
    "scrolled": false
   },
   "outputs": [
    {
     "name": "stdout",
     "output_type": "stream",
     "text": [
      "NAME_INCOME_TYPE\n",
      "Commercial associate    202603.538794\n",
      "Pensioner               136187.615841\n",
      "State servant           178125.329848\n",
      "Working                 164786.816542\n",
      "Name: AMT_INCOME_TOTAL, dtype: float64\n"
     ]
    }
   ],
   "source": [
    "a= loan_df.groupby (by=['NAME_INCOME_TYPE'])[\"AMT_INCOME_TOTAL\"].mean()\n",
    "print(a)"
   ]
  },
  {
   "cell_type": "markdown",
   "id": "9cdf84c4",
   "metadata": {},
   "source": [
    "## Interpertation:\n",
    "* Here working class acounts of 52% of the data.\n",
    "* State servats comes last with 7%\n",
    "when we are analysing it with the avg income:\n",
    "* Commercial associate had more avg income than others\n",
    "* Pensioner comes last in that regards"
   ]
  },
  {
   "cell_type": "markdown",
   "id": "283c5151",
   "metadata": {},
   "source": [
    "## Analysis on Educational Type"
   ]
  },
  {
   "cell_type": "code",
   "execution_count": 45,
   "id": "bcb22f04",
   "metadata": {
    "scrolled": false
   },
   "outputs": [
    {
     "name": "stdout",
     "output_type": "stream",
     "text": [
      "Unique values in are: <StringArray>\n",
      "['Secondary / secondary special',              'Higher education',\n",
      "             'Incomplete higher',               'Lower secondary',\n",
      "               'Academic degree']\n",
      "Length: 5, dtype: string\n",
      "Mode of  is Secondary / secondary special\n",
      "Number of missing values in  is: 0\n"
     ]
    }
   ],
   "source": [
    "info_of_cat('NAME_EDUCATION_TYPE')"
   ]
  },
  {
   "cell_type": "code",
   "execution_count": 46,
   "id": "aa71c89e",
   "metadata": {
    "scrolled": false
   },
   "outputs": [
    {
     "data": {
      "image/png": "[encoded data removed]",
      "text/plain": [
       "<Figure size 1080x576 with 1 Axes>"
      ]
     },
     "metadata": {
      "needs_background": "light"
     },
     "output_type": "display_data"
    }
   ],
   "source": [
    "fig,ax=plt.subplots(figsize=(15,8))\n",
    "ax=sns.countplot(x=loan_df['NAME_EDUCATION_TYPE'])\n",
    "for bar in ax.patches:\n",
    "    percentage = f\"{round(bar.get_height() /loan_df.shape[0]*100, 2)}%\"\n",
    "    x = bar.get_x() + bar.get_width() /2                        \n",
    "    y = bar.get_height()                                           \n",
    "    ax.annotate(percentage, (x, y), va = \"bottom\", ha =\"center\" )   \n",
    "                                                                    \n",
    "plt.show()"
   ]
  },
  {
   "cell_type": "markdown",
   "id": "ae9af6ba",
   "metadata": {},
   "source": [
    "### Interpertation:\n",
    "* 71% of them are having a scocandary education.\n",
    "* Only 0.05% of them is having an accademic degree."
   ]
  },
  {
   "cell_type": "markdown",
   "id": "881d9d45",
   "metadata": {},
   "source": [
    "## Analysis on family status"
   ]
  },
  {
   "cell_type": "code",
   "execution_count": 47,
   "id": "a2808b74",
   "metadata": {
    "scrolled": true
   },
   "outputs": [
    {
     "name": "stdout",
     "output_type": "stream",
     "text": [
      "Unique values in are: <StringArray>\n",
      "['Single / not married',              'Married',       'Civil marriage',\n",
      "                'Widow',            'Separated',              'Unknown']\n",
      "Length: 6, dtype: string\n",
      "Mode of  is Married\n",
      "Number of missing values in  is: 0\n"
     ]
    }
   ],
   "source": [
    "info_of_cat('NAME_FAMILY_STATUS')"
   ]
  },
  {
   "cell_type": "code",
   "execution_count": 48,
   "id": "e82f13f1",
   "metadata": {},
   "outputs": [
    {
     "data": {
      "image/png": "[encoded data removed]",
      "text/plain": [
       "<Figure size 1080x576 with 1 Axes>"
      ]
     },
     "metadata": {
      "needs_background": "light"
     },
     "output_type": "display_data"
    }
   ],
   "source": [
    "fig,ax=plt.subplots(figsize=(15,8))\n",
    "ax=sns.countplot(x=loan_df['NAME_FAMILY_STATUS'])\n",
    "for bar in ax.patches:\n",
    "    percentage = f\"{round(bar.get_height() /loan_df.shape[0]*100, 2)}%\"\n",
    "    x = bar.get_x() + bar.get_width() /2                        \n",
    "    y = bar.get_height()                                           \n",
    "    ax.annotate(percentage, (x, y), va = \"bottom\", ha =\"center\" )   \n",
    "                                                                    \n",
    "plt.show()"
   ]
  },
  {
   "cell_type": "code",
   "execution_count": 49,
   "id": "23536496",
   "metadata": {},
   "outputs": [
    {
     "name": "stdout",
     "output_type": "stream",
     "text": [
      "Unique values in are: <StringArray>\n",
      "[             'Laborers',            'Core staff',           'Accountants',\n",
      "              'Managers',               'Drivers',           'Sales staff',\n",
      "        'Cleaning staff',         'Cooking staff', 'Private service staff',\n",
      "        'Medicine staff',        'Security staff', 'High skill tech staff',\n",
      "  'Waiters/barmen staff',    'Low-skill Laborers',         'Realty agents',\n",
      "           'Secretaries',              'IT staff',              'HR staff']\n",
      "Length: 18, dtype: string\n",
      "Mode of  is Laborers\n",
      "Number of missing values in  is: 0\n"
     ]
    }
   ],
   "source": [
    "info_of_cat('OCCUPATION_TYPE')"
   ]
  },
  {
   "cell_type": "code",
   "execution_count": 50,
   "id": "4229cd7b",
   "metadata": {
    "scrolled": true
   },
   "outputs": [
    {
     "data": {
      "image/png": "[encoded data removed]",
      "text/plain": [
       "<Figure size 2160x864 with 1 Axes>"
      ]
     },
     "metadata": {
      "needs_background": "light"
     },
     "output_type": "display_data"
    }
   ],
   "source": [
    "fig,ax=plt.subplots(figsize=(30,12))\n",
    "ax=sns.countplot(x=loan_df['OCCUPATION_TYPE'])\n",
    "for bar in ax.patches:\n",
    "    percentage = f\"{round(bar.get_height() /loan_df.shape[0]*100, 2)}%\"\n",
    "    x = bar.get_x() + bar.get_width() /2                        \n",
    "    y = bar.get_height()                                           \n",
    "    ax.annotate(percentage, (x, y), va = \"bottom\", ha =\"center\" )   \n",
    "                                                                    \n",
    "plt.show()"
   ]
  },
  {
   "cell_type": "markdown",
   "id": "4e99a0f2",
   "metadata": {},
   "source": [
    "# *$Numerical-analysis$"
   ]
  },
  {
   "cell_type": "code",
   "execution_count": 51,
   "id": "dcc75bee",
   "metadata": {},
   "outputs": [
    {
     "name": "stdout",
     "output_type": "stream",
     "text": [
      "['SK_ID_CURR', 'AMT_INCOME_TOTAL', 'AMT_CREDIT', 'AMT_GOODS_PRICE', 'DAYS_EMPLOYED']\n"
     ]
    }
   ],
   "source": [
    "print(continuous)"
   ]
  },
  {
   "cell_type": "code",
   "execution_count": 52,
   "id": "5007ed5a",
   "metadata": {},
   "outputs": [],
   "source": [
    "def numerical(col):\n",
    "    print('The mean of the  is:', loan_df[col].mean())\n",
    "    print('The median of the  is :',loan_df[col].median())\n",
    "    print('The mode of the  is :',loan_df[col].mode()[0])\n",
    "    print('The standard deviation of the  is :',loan_df[col].std())\n",
    "    print('Number of missing values in the  is:',loan_df[col].isnull().sum())"
   ]
  },
  {
   "cell_type": "code",
   "execution_count": 53,
   "id": "7673dd3b",
   "metadata": {
    "scrolled": true
   },
   "outputs": [
    {
     "name": "stdout",
     "output_type": "stream",
     "text": [
      "The mean of the  is: 598980.0759932384\n",
      "The median of the  is : 513040.5\n",
      "The mode of the  is : 450000.0\n",
      "The standard deviation of the  is : 402027.97883147374\n",
      "Number of missing values in the  is: 0\n"
     ]
    }
   ],
   "source": [
    "numerical('AMT_CREDIT')"
   ]
  },
  {
   "cell_type": "code",
   "execution_count": 54,
   "id": "88198a33",
   "metadata": {
    "scrolled": false
   },
   "outputs": [
    {
     "data": {
      "image/png": "[encoded data removed]",
      "text/plain": [
       "<Figure size 1296x504 with 2 Axes>"
      ]
     },
     "metadata": {
      "needs_background": "light"
     },
     "output_type": "display_data"
    }
   ],
   "source": [
    "plt.figure(figsize=(18,7))\n",
    "\n",
    "plt.subplot(1,2,1)\n",
    "plt.boxplot(loan_df['AMT_CREDIT'])\n",
    "\n",
    "plt.subplot(1,2,2)\n",
    "plt.hist(loan_df['AMT_CREDIT'],bins=20,edgecolor='black',color='cadetblue')\n",
    "\n",
    "\n",
    "\n",
    "plt.show()"
   ]
  },
  {
   "cell_type": "code",
   "execution_count": null,
   "id": "c3289165",
   "metadata": {},
   "outputs": [],
   "source": []
  },
  {
   "cell_type": "code",
   "execution_count": 55,
   "id": "a1ef9ee8",
   "metadata": {},
   "outputs": [
    {
     "name": "stdout",
     "output_type": "stream",
     "text": [
      "The mean of the  is: 169394.56746944267\n",
      "The median of the  is : 144000.0\n",
      "The mode of the  is : 135000.0\n",
      "The standard deviation of the  is : 383477.73570733087\n",
      "Number of missing values in the  is: 0\n"
     ]
    }
   ],
   "source": [
    "numerical('AMT_INCOME_TOTAL')"
   ]
  },
  {
   "cell_type": "code",
   "execution_count": 56,
   "id": "cc26f485",
   "metadata": {
    "scrolled": false
   },
   "outputs": [
    {
     "data": {
      "image/png": "[encoded data removed]",
      "text/plain": [
       "<Figure size 1296x504 with 2 Axes>"
      ]
     },
     "metadata": {
      "needs_background": "light"
     },
     "output_type": "display_data"
    }
   ],
   "source": [
    "plt.figure(figsize=(18,7))\n",
    "\n",
    "plt.subplot(1,2,1)\n",
    "plt.boxplot(loan_df['AMT_INCOME_TOTAL'])\n",
    "\n",
    "plt.subplot(1,2,2)\n",
    "plt.hist(loan_df['AMT_INCOME_TOTAL'],bins=20,edgecolor='black',color='cadetblue')\n",
    "\n",
    "\n",
    "\n",
    "plt.show()"
   ]
  },
  {
   "cell_type": "code",
   "execution_count": 57,
   "id": "f83c957b",
   "metadata": {},
   "outputs": [],
   "source": [
    "ndf=loan_df.copy()"
   ]
  },
  {
   "cell_type": "code",
   "execution_count": 58,
   "id": "7ef016db",
   "metadata": {},
   "outputs": [
    {
     "name": "stdout",
     "output_type": "stream",
     "text": [
      "90000.0\n"
     ]
    }
   ],
   "source": [
    "# IQR\n",
    "q1=np.percentile(loan_df['AMT_INCOME_TOTAL'],25)\n",
    "q3=np.percentile(loan_df['AMT_INCOME_TOTAL'],75)\n",
    "iqr=q3-q1\n",
    "print(iqr)"
   ]
  },
  {
   "cell_type": "code",
   "execution_count": 59,
   "id": "77971adf",
   "metadata": {
    "scrolled": true
   },
   "outputs": [
    {
     "name": "stdout",
     "output_type": "stream",
     "text": [
      "337500.0 -22500.0\n"
     ]
    }
   ],
   "source": [
    "upper=q3+1.5*iqr\n",
    "lower=q1-1.5*iqr\n",
    "print(upper,lower)"
   ]
  },
  {
   "cell_type": "code",
   "execution_count": 60,
   "id": "be827988",
   "metadata": {},
   "outputs": [
    {
     "name": "stdout",
     "output_type": "stream",
     "text": [
      "169394\n"
     ]
    }
   ],
   "source": [
    "#here we are removing the otliers that are above tge upper bound\n",
    "mean = int(ndf.AMT_INCOME_TOTAL.mean())\n",
    "x = ndf[ndf[\"AMT_INCOME_TOTAL\"] > upper].index\n",
    "for index in x:\n",
    "    ndf.loc[index, \"AMT_INCOME_TOTAL\"] =mean\n",
    "print(mean)"
   ]
  },
  {
   "cell_type": "code",
   "execution_count": 61,
   "id": "aaa08b2c",
   "metadata": {
    "scrolled": true
   },
   "outputs": [
    {
     "data": {
      "image/png": "[encoded data removed]",
      "text/plain": [
       "<Figure size 1296x504 with 2 Axes>"
      ]
     },
     "metadata": {
      "needs_background": "light"
     },
     "output_type": "display_data"
    }
   ],
   "source": [
    "plt.figure(figsize=(18,7))\n",
    "\n",
    "plt.subplot(1,2,1)\n",
    "plt.boxplot(ndf['AMT_INCOME_TOTAL'])\n",
    "\n",
    "plt.subplot(1,2,2)\n",
    "plt.hist(ndf['AMT_INCOME_TOTAL'],bins=20,edgecolor='black',color='cadetblue')\n",
    "\n",
    "\n",
    "\n",
    "plt.show()"
   ]
  },
  {
   "cell_type": "code",
   "execution_count": null,
   "id": "ac7594ee",
   "metadata": {},
   "outputs": [],
   "source": []
  },
  {
   "cell_type": "code",
   "execution_count": 62,
   "id": "6f979189",
   "metadata": {
    "scrolled": true
   },
   "outputs": [
    {
     "name": "stdout",
     "output_type": "stream",
     "text": [
      "The mean of the  is: 63271.30642354165\n",
      "The median of the  is : -1219.0\n",
      "The mode of the  is : 365243\n",
      "The standard deviation of the  is : 140822.03551377382\n",
      "Number of missing values in the  is: 0\n"
     ]
    }
   ],
   "source": [
    "numerical('DAYS_EMPLOYED')"
   ]
  },
  {
   "cell_type": "code",
   "execution_count": 63,
   "id": "1a13d02e",
   "metadata": {
    "scrolled": true
   },
   "outputs": [
    {
     "data": {
      "image/png": "[encoded data removed]",
      "text/plain": [
       "<Figure size 1296x504 with 2 Axes>"
      ]
     },
     "metadata": {
      "needs_background": "light"
     },
     "output_type": "display_data"
    }
   ],
   "source": [
    "plt.figure(figsize=(18,7))\n",
    "\n",
    "plt.subplot(1,2,1)\n",
    "plt.boxplot(loan_df['DAYS_EMPLOYED'])\n",
    "\n",
    "plt.subplot(1,2,2)\n",
    "plt.hist(loan_df['DAYS_EMPLOYED'],bins=20,edgecolor='black',color='cadetblue')\n",
    "\n",
    "\n",
    "\n",
    "plt.show()"
   ]
  },
  {
   "cell_type": "code",
   "execution_count": 64,
   "id": "c77efce2",
   "metadata": {
    "scrolled": true
   },
   "outputs": [
    {
     "name": "stdout",
     "output_type": "stream",
     "text": [
      "2466.25\n"
     ]
    }
   ],
   "source": [
    "# IQR\n",
    "q1=np.percentile(loan_df['DAYS_EMPLOYED'],25)\n",
    "q3=np.percentile(loan_df['DAYS_EMPLOYED'],75)\n",
    "iqr=q3-q1\n",
    "print(iqr)"
   ]
  },
  {
   "cell_type": "code",
   "execution_count": 65,
   "id": "58a8d9e2",
   "metadata": {},
   "outputs": [
    {
     "name": "stdout",
     "output_type": "stream",
     "text": [
      "3407.625 -6457.375\n"
     ]
    }
   ],
   "source": [
    "upper=q3+1.5*iqr\n",
    "lower=q1-1.5*iqr\n",
    "print(upper,lower)"
   ]
  },
  {
   "cell_type": "code",
   "execution_count": 66,
   "id": "3fcb7f8d",
   "metadata": {},
   "outputs": [
    {
     "name": "stdout",
     "output_type": "stream",
     "text": [
      "63292\n"
     ]
    }
   ],
   "source": [
    "#here we are removing the otliers that are above tge upper bound\n",
    "mean = int(df.DAYS_EMPLOYED.mean())\n",
    "x = df[df[\"DAYS_EMPLOYED\"] > upper].index\n",
    "for index in x:\n",
    "    df.loc[index, \"DAYS_EMPLOYED\"] =mean\n",
    "print(mean)"
   ]
  },
  {
   "cell_type": "markdown",
   "id": "bfe4c962",
   "metadata": {},
   "source": [
    "# $leval-2-Analayis$"
   ]
  },
  {
   "cell_type": "code",
   "execution_count": 67,
   "id": "f78ae631",
   "metadata": {
    "scrolled": false
   },
   "outputs": [
    {
     "name": "stdout",
     "output_type": "stream",
     "text": [
      "categorical          continuous\n",
      "-------------------  ----------------\n",
      "TARGET               SK_ID_CURR\n",
      "NAME_CONTRACT_TYPE   AMT_INCOME_TOTAL\n",
      "GENDER               AMT_CREDIT\n",
      "Car                  AMT_GOODS_PRICE\n",
      "House                DAYS_EMPLOYED\n",
      "CNT_CHILDREN\n",
      "NAME_TYPE_SUITE\n",
      "NAME_INCOME_TYPE\n",
      "NAME_EDUCATION_TYPE\n",
      "NAME_FAMILY_STATUS\n",
      "MOBILE\n",
      "WORK_PHONE\n",
      "HOME_PHONE\n",
      "MOBILE_REACHABLE\n",
      "FLAG_EMAIL\n",
      "OCCUPATION_TYPE\n",
      "CNT_FAM_MEMBERS\n",
      "APPLICATION_DAY\n",
      "TOTAL_DOC_SUBMITTED\n"
     ]
    }
   ],
   "source": [
    "print(tabulate({\"Categorical\":categorical,\n",
    "                \"Continuous\": continuous}, headers = [\"categorical\", \"continuous\"]))"
   ]
  },
  {
   "cell_type": "code",
   "execution_count": null,
   "id": "3d4f0627",
   "metadata": {},
   "outputs": [],
   "source": []
  },
  {
   "cell_type": "markdown",
   "id": "f585a9f4",
   "metadata": {},
   "source": [
    "## Relation Between Income type and house"
   ]
  },
  {
   "cell_type": "code",
   "execution_count": 68,
   "id": "6f01f60f",
   "metadata": {},
   "outputs": [
    {
     "data": {
      "text/html": [
       "<div>\n",
       "<style scoped>\n",
       "    .dataframe tbody tr th:only-of-type {\n",
       "        vertical-align: middle;\n",
       "    }\n",
       "\n",
       "    .dataframe tbody tr th {\n",
       "        vertical-align: top;\n",
       "    }\n",
       "\n",
       "    .dataframe thead th {\n",
       "        text-align: right;\n",
       "    }\n",
       "</style>\n",
       "<table border=\"1\" class=\"dataframe\">\n",
       "  <thead>\n",
       "    <tr style=\"text-align: right;\">\n",
       "      <th>House</th>\n",
       "      <th>N</th>\n",
       "      <th>Y</th>\n",
       "      <th>PERCENT OF HAVING HOME</th>\n",
       "    </tr>\n",
       "    <tr>\n",
       "      <th>NAME_INCOME_TYPE</th>\n",
       "      <th></th>\n",
       "      <th></th>\n",
       "      <th></th>\n",
       "    </tr>\n",
       "  </thead>\n",
       "  <tbody>\n",
       "    <tr>\n",
       "      <th>Commercial associate</th>\n",
       "      <td>7283</td>\n",
       "      <td>15934</td>\n",
       "      <td>68.630745</td>\n",
       "    </tr>\n",
       "    <tr>\n",
       "      <th>Pensioner</th>\n",
       "      <td>4322</td>\n",
       "      <td>13535</td>\n",
       "      <td>75.796606</td>\n",
       "    </tr>\n",
       "    <tr>\n",
       "      <th>State servant</th>\n",
       "      <td>2443</td>\n",
       "      <td>4557</td>\n",
       "      <td>65.100000</td>\n",
       "    </tr>\n",
       "    <tr>\n",
       "      <th>Working</th>\n",
       "      <td>16614</td>\n",
       "      <td>35288</td>\n",
       "      <td>67.989673</td>\n",
       "    </tr>\n",
       "  </tbody>\n",
       "</table>\n",
       "</div>"
      ],
      "text/plain": [
       "House                 N                       Y                       \\\n",
       "NAME_INCOME_TYPE                                                       \n",
       "Commercial associate                    7283                   15934   \n",
       "Pensioner                               4322                   13535   \n",
       "State servant                           2443                    4557   \n",
       "Working                                16614                   35288   \n",
       "\n",
       "House                 PERCENT OF HAVING HOME  \n",
       "NAME_INCOME_TYPE                              \n",
       "Commercial associate               68.630745  \n",
       "Pensioner                          75.796606  \n",
       "State servant                      65.100000  \n",
       "Working                            67.989673  "
      ]
     },
     "execution_count": 68,
     "metadata": {},
     "output_type": "execute_result"
    }
   ],
   "source": [
    "table=pd.pivot_table(data=loan_df,index=['NAME_INCOME_TYPE'],values='SK_ID_CURR',columns='House',aggfunc='count')\n",
    "table['PERCENT OF HAVING HOME']=table['Y']/(table['N']+table['Y'])*100\n",
    "table"
   ]
  },
  {
   "cell_type": "code",
   "execution_count": 69,
   "id": "2ede71a5",
   "metadata": {
    "scrolled": false
   },
   "outputs": [
    {
     "data": {
      "image/png": "[encoded data removed]",
      "text/plain": [
       "<Figure size 1080x720 with 1 Axes>"
      ]
     },
     "metadata": {
      "needs_background": "light"
     },
     "output_type": "display_data"
    }
   ],
   "source": [
    "fig,ax=plt.subplots(figsize=(15,10))\n",
    "\n",
    "sns.countplot(data=loan_df,x='NAME_INCOME_TYPE',hue='House')\n",
    "plt.xlabel('count',fontsize=15)\n",
    "plt.legend(fontsize=15)\n",
    "plt.tick_params(axis='both',which='major',labelsize=20)\n",
    "for bar in ax.patches:\n",
    "    percentage = f\"{round(bar.get_height() /loan_df.shape[0]*100, 2)}%\"\n",
    "    x = bar.get_x() + bar.get_width() /2                        \n",
    "    y = bar.get_height()                                           \n",
    "    ax.annotate(percentage, (x, y), va = \"bottom\", ha =\"center\" )   \n",
    "                                                                    \n",
    "plt.show()"
   ]
  },
  {
   "cell_type": "code",
   "execution_count": 70,
   "id": "d6fc6d5a",
   "metadata": {},
   "outputs": [
    {
     "name": "stdout",
     "output_type": "stream",
     "text": [
      "p value= 1.457098261685078e-06\n",
      "propotions are differnt by lNCOME  type reject H0\n"
     ]
    }
   ],
   "source": [
    "#Ho: propotions are similar\n",
    "#Ha: propotions are not simila\n",
    "from scipy.stats import chi2_contingency\n",
    "data=table.loc[['Commercial associate', 'Working']]\n",
    "stat,p,dof,expected=chi2_contingency(data)\n",
    "alpha=0.05\n",
    "print('p value=',p)\n",
    "if p<= alpha:\n",
    "    print('propotions are differnt by lNCOME  type reject H0')\n",
    "else:\n",
    "    print('propotions are similar so H0 hold true')"
   ]
  },
  {
   "cell_type": "code",
   "execution_count": 71,
   "id": "04e750ff",
   "metadata": {},
   "outputs": [
    {
     "name": "stdout",
     "output_type": "stream",
     "text": [
      "p value= 2.8604244994001294e-57\n",
      "propotions are differnt by lNCOME  type reject H0\n"
     ]
    }
   ],
   "source": [
    "#Ho: propotions are similar\n",
    "#Ha: propotions are not simila\n",
    "data=table.loc[['Commercial associate', 'Pensioner']]\n",
    "stat,p,dof,expected=chi2_contingency(data)\n",
    "alpha=0.05\n",
    "print('p value=',p)\n",
    "if p<= alpha:\n",
    "    print('propotions are differnt by lNCOME  type reject H0')\n",
    "else:\n",
    "    print('propotions are similar so H0 hold true')"
   ]
  },
  {
   "cell_type": "code",
   "execution_count": 72,
   "id": "401d3ebe",
   "metadata": {},
   "outputs": [
    {
     "name": "stdout",
     "output_type": "stream",
     "text": [
      "p value= 1.5114200712532885e-68\n",
      "propotions are differnt by lNCOME  type reject H0\n"
     ]
    }
   ],
   "source": [
    "#Ho: propotions are similar\n",
    "#Ha: propotions are not simila\n",
    "data=table.loc[['State servant', 'Pensioner']]\n",
    "stat,p,dof,expected=chi2_contingency(data)\n",
    "alpha=0.05\n",
    "print('p value=',p)\n",
    "if p<= alpha:\n",
    "    print('propotions are differnt by lNCOME  type reject H0')\n",
    "else:\n",
    "    print('propotions are similar so H0 hold true')"
   ]
  },
  {
   "cell_type": "markdown",
   "id": "53cd66e7",
   "metadata": {},
   "source": [
    "### Interpertation:\n",
    "* Considering the overall data, working class have more houses and so as they are having no houses also.\n",
    "* while considering idividualy 75% of pensionrs are having there own hosue\n",
    "* in our contigency test we can formulate that the propotions are diffrent for each of the class."
   ]
  },
  {
   "cell_type": "markdown",
   "id": "160c5e29",
   "metadata": {},
   "source": [
    "## Analysis on target with Contract type"
   ]
  },
  {
   "cell_type": "code",
   "execution_count": 73,
   "id": "0f7d8e95",
   "metadata": {},
   "outputs": [
    {
     "data": {
      "text/html": [
       "<div>\n",
       "<style scoped>\n",
       "    .dataframe tbody tr th:only-of-type {\n",
       "        vertical-align: middle;\n",
       "    }\n",
       "\n",
       "    .dataframe tbody tr th {\n",
       "        vertical-align: top;\n",
       "    }\n",
       "\n",
       "    .dataframe thead th {\n",
       "        text-align: right;\n",
       "    }\n",
       "</style>\n",
       "<table border=\"1\" class=\"dataframe\">\n",
       "  <thead>\n",
       "    <tr style=\"text-align: right;\">\n",
       "      <th>TARGET</th>\n",
       "      <th>0</th>\n",
       "      <th>1</th>\n",
       "      <th>PERCENT -offtargets</th>\n",
       "    </tr>\n",
       "    <tr>\n",
       "      <th>NAME_CONTRACT_TYPE</th>\n",
       "      <th></th>\n",
       "      <th></th>\n",
       "      <th></th>\n",
       "    </tr>\n",
       "  </thead>\n",
       "  <tbody>\n",
       "    <tr>\n",
       "      <th>Cash loans</th>\n",
       "      <td>82944</td>\n",
       "      <td>7558</td>\n",
       "      <td>8.351197</td>\n",
       "    </tr>\n",
       "    <tr>\n",
       "      <th>Revolving loans</th>\n",
       "      <td>8943</td>\n",
       "      <td>531</td>\n",
       "      <td>5.604813</td>\n",
       "    </tr>\n",
       "  </tbody>\n",
       "</table>\n",
       "</div>"
      ],
      "text/plain": [
       "TARGET                  0     1  PERCENT -offtargets\n",
       "NAME_CONTRACT_TYPE                                  \n",
       "Cash loans          82944  7558             8.351197\n",
       "Revolving loans      8943   531             5.604813"
      ]
     },
     "execution_count": 73,
     "metadata": {},
     "output_type": "execute_result"
    }
   ],
   "source": [
    "table1=pd.pivot_table(data=loan_df,index=['NAME_CONTRACT_TYPE'],values='SK_ID_CURR',columns='TARGET',aggfunc='count')\n",
    "table1['PERCENT -offtargets']=table1[1]/(table1[1]+table1[0])*100\n",
    "table1"
   ]
  },
  {
   "cell_type": "code",
   "execution_count": 74,
   "id": "50823aab",
   "metadata": {},
   "outputs": [
    {
     "data": {
      "image/png": "[encoded data removed]",
      "text/plain": [
       "<Figure size 864x576 with 1 Axes>"
      ]
     },
     "metadata": {
      "needs_background": "light"
     },
     "output_type": "display_data"
    }
   ],
   "source": [
    "fig,ax=plt.subplots(figsize=(12,8))\n",
    "\n",
    "sns.countplot(data=loan_df,x='NAME_CONTRACT_TYPE',hue='TARGET')\n",
    "plt.xlabel('count',fontsize=15)\n",
    "plt.legend(fontsize=15)\n",
    "plt.tick_params(axis='both',which='major',labelsize=15)\n",
    "for bar in ax.patches:\n",
    "    percentage = f\"{round(bar.get_height() /loan_df.shape[0]*100, 2)}%\"\n",
    "    x = bar.get_x() + bar.get_width() /2                        \n",
    "    y = bar.get_height()                                           \n",
    "    ax.annotate(percentage, (x, y), va = \"bottom\", ha =\"center\" )   \n",
    "                                                                    \n",
    "plt.show()"
   ]
  },
  {
   "cell_type": "code",
   "execution_count": 75,
   "id": "fb4eb9ee",
   "metadata": {},
   "outputs": [
    {
     "name": "stdout",
     "output_type": "stream",
     "text": [
      "p value= 6.222815048163835e-23\n",
      "propotions are differnt by loan type reject H0\n"
     ]
    }
   ],
   "source": [
    "#lets check if nonpayment is more by loan type- chi squared test of propotion\n",
    "#Ho: propotions are similar\n",
    "#Ha: propotions are not similar\n",
    "from scipy.stats import chi2_contingency\n",
    "data=table1.loc[['Cash loans', 'Revolving loans']]\n",
    "stat,p,dof,expected=chi2_contingency(data)\n",
    "alpha=0.05\n",
    "print('p value=',p)\n",
    "if p<= alpha:\n",
    "    print('propotions are differnt by loan type reject H0')\n",
    "else:\n",
    "    print('propotions are similar so H0 hold true')"
   ]
  },
  {
   "cell_type": "markdown",
   "id": "998a2cbc",
   "metadata": {},
   "source": [
    "### Interpertation:\n",
    "* considering the whole data 7.5% of off-targets are from the cash loans, but that is not  much relavent  because 90% of the loan disbursed are cash loans.\n",
    "* considering one and one ,the 8% of whole cash loans are off targets and is only 5% for the revolving loans.\n",
    "* But by contigency test we came to that the propotions are diffrent and we cant conclude that more off-targets are for cash loans."
   ]
  },
  {
   "cell_type": "markdown",
   "id": "ec185385",
   "metadata": {},
   "source": [
    "## which employee type had more off-targets:"
   ]
  },
  {
   "cell_type": "code",
   "execution_count": 76,
   "id": "aecd40b6",
   "metadata": {
    "scrolled": true
   },
   "outputs": [
    {
     "data": {
      "text/html": [
       "<div>\n",
       "<style scoped>\n",
       "    .dataframe tbody tr th:only-of-type {\n",
       "        vertical-align: middle;\n",
       "    }\n",
       "\n",
       "    .dataframe tbody tr th {\n",
       "        vertical-align: top;\n",
       "    }\n",
       "\n",
       "    .dataframe thead th {\n",
       "        text-align: right;\n",
       "    }\n",
       "</style>\n",
       "<table border=\"1\" class=\"dataframe\">\n",
       "  <thead>\n",
       "    <tr style=\"text-align: right;\">\n",
       "      <th>TARGET</th>\n",
       "      <th>0</th>\n",
       "      <th>1</th>\n",
       "      <th>PERCENT</th>\n",
       "    </tr>\n",
       "    <tr>\n",
       "      <th>NAME_INCOME_TYPE</th>\n",
       "      <th></th>\n",
       "      <th></th>\n",
       "      <th></th>\n",
       "    </tr>\n",
       "  </thead>\n",
       "  <tbody>\n",
       "    <tr>\n",
       "      <th>Commercial associate</th>\n",
       "      <td>21491</td>\n",
       "      <td>1726</td>\n",
       "      <td>7.434208</td>\n",
       "    </tr>\n",
       "    <tr>\n",
       "      <th>Pensioner</th>\n",
       "      <td>16879</td>\n",
       "      <td>978</td>\n",
       "      <td>5.476844</td>\n",
       "    </tr>\n",
       "    <tr>\n",
       "      <th>State servant</th>\n",
       "      <td>6593</td>\n",
       "      <td>407</td>\n",
       "      <td>5.814286</td>\n",
       "    </tr>\n",
       "    <tr>\n",
       "      <th>Working</th>\n",
       "      <td>46924</td>\n",
       "      <td>4978</td>\n",
       "      <td>9.591153</td>\n",
       "    </tr>\n",
       "  </tbody>\n",
       "</table>\n",
       "</div>"
      ],
      "text/plain": [
       "TARGET                    0     1   PERCENT\n",
       "NAME_INCOME_TYPE                           \n",
       "Commercial associate  21491  1726  7.434208\n",
       "Pensioner             16879   978  5.476844\n",
       "State servant          6593   407  5.814286\n",
       "Working               46924  4978  9.591153"
      ]
     },
     "execution_count": 76,
     "metadata": {},
     "output_type": "execute_result"
    }
   ],
   "source": [
    "table2=pd.pivot_table(data=loan_df,index=['NAME_INCOME_TYPE'],columns='TARGET',aggfunc='count',values='SK_ID_CURR')\n",
    "table2['PERCENT']=table2[1]/(table2[1]+table2[0])*100\n",
    "table2"
   ]
  },
  {
   "cell_type": "code",
   "execution_count": 77,
   "id": "ad0ba4c4",
   "metadata": {
    "scrolled": false
   },
   "outputs": [
    {
     "data": {
      "image/png": "[encoded data removed]",
      "text/plain": [
       "<Figure size 1080x576 with 1 Axes>"
      ]
     },
     "metadata": {
      "needs_background": "light"
     },
     "output_type": "display_data"
    }
   ],
   "source": [
    "fig,ax=plt.subplots(figsize=(15,8))\n",
    "\n",
    "sns.countplot(data=loan_df,x='NAME_INCOME_TYPE',hue='TARGET')\n",
    "\n",
    "plt.xlabel('count',fontsize=15)\n",
    "plt.legend(fontsize=15)\n",
    "plt.tick_params(axis='both',which='major',labelsize=15)\n",
    "for bar in ax.patches:\n",
    "    percentage = f\"{round(bar.get_height() /loan_df.shape[0]*100, 2)}%\"\n",
    "    x = bar.get_x() + bar.get_width() /2                        \n",
    "    y = bar.get_height()                                           \n",
    "    ax.annotate(percentage, (x, y), va = \"bottom\", ha =\"center\" )   \n",
    "                                                                    \n",
    "plt.show()"
   ]
  },
  {
   "cell_type": "code",
   "execution_count": 78,
   "id": "28c1e906",
   "metadata": {},
   "outputs": [
    {
     "name": "stdout",
     "output_type": "stream",
     "text": [
      "p value= 6.040108069582217e-21\n",
      "propotions are differnt by loan type reject H0\n"
     ]
    }
   ],
   "source": [
    "# to check weater comercial associalte and working class have same non paypeyment  pattern\n",
    "#Ho: propotions are similar\n",
    "#Ha: propotions are not similar\n",
    "from scipy.stats import chi2_contingency\n",
    "data=table2.loc[['Commercial associate', 'Working']]\n",
    "stat,p,dof,expected=chi2_contingency(data)\n",
    "alpha=0.05\n",
    "print('p value=',p)\n",
    "if p<= alpha:\n",
    "    print('propotions are differnt by loan type reject H0')\n",
    "else:\n",
    "    print('propotions are similar so H0 hold true')"
   ]
  },
  {
   "cell_type": "code",
   "execution_count": 79,
   "id": "409cd3ff",
   "metadata": {},
   "outputs": [
    {
     "name": "stdout",
     "output_type": "stream",
     "text": [
      "p value= 0.12716040840431792\n",
      "propotions are similar so H0 hold true\n"
     ]
    }
   ],
   "source": [
    "data=table2.loc[['Pensioner', 'State servant']]\n",
    "stat,p,dof,expected=chi2_contingency(data)\n",
    "alpha=0.05\n",
    "print('p value=',p)\n",
    "if p<= alpha:\n",
    "    print('propotions are differnt by loan type reject H0')\n",
    "else:\n",
    "    print('propotions are similar so H0 hold true')"
   ]
  },
  {
   "cell_type": "code",
   "execution_count": 80,
   "id": "1e605262",
   "metadata": {},
   "outputs": [
    {
     "name": "stdout",
     "output_type": "stream",
     "text": [
      "p value= 1.8496923931679943e-63\n",
      "propotions are differnt by loan type reject H0\n"
     ]
    }
   ],
   "source": [
    "data=table2.loc[['Pensioner', 'Working']]\n",
    "stat,p,dof,expected=chi2_contingency(data)\n",
    "alpha=0.05\n",
    "print('p value=',p)\n",
    "if p<= alpha:\n",
    "    print('propotions are differnt by loan type reject H0')\n",
    "else:\n",
    "    print('propotions are similar so H0 hold true')"
   ]
  },
  {
   "cell_type": "code",
   "execution_count": 81,
   "id": "af8b44ef",
   "metadata": {},
   "outputs": [
    {
     "name": "stdout",
     "output_type": "stream",
     "text": [
      "p value= 2.2082884944487628e-14\n",
      "propotions are differnt by loan type reject H0\n"
     ]
    }
   ],
   "source": [
    "data=table2.loc[['Pensioner', 'Commercial associate']]\n",
    "stat,p,dof,expected=chi2_contingency(data)\n",
    "alpha=0.05\n",
    "print('p value=',p)\n",
    "if p<= alpha:\n",
    "    print('propotions are differnt by loan type reject H0')\n",
    "else:\n",
    "    print('propotions are similar so H0 hold true')"
   ]
  },
  {
   "cell_type": "markdown",
   "id": "103b851f",
   "metadata": {},
   "source": [
    "## INTERPERTAION"
   ]
  },
  {
   "cell_type": "markdown",
   "id": "240ba4e3",
   "metadata": {},
   "source": [
    "* Nearly 5% of the off targets are from the working class,eventhough we cant coclude the working class had more % of off targets, because the propotions with others are diffrent.\n"
   ]
  },
  {
   "cell_type": "markdown",
   "id": "379fc296",
   "metadata": {},
   "source": [
    "## which occupation types had more off targets:"
   ]
  },
  {
   "cell_type": "code",
   "execution_count": 82,
   "id": "8c948f50",
   "metadata": {},
   "outputs": [
    {
     "data": {
      "text/html": [
       "<div>\n",
       "<style scoped>\n",
       "    .dataframe tbody tr th:only-of-type {\n",
       "        vertical-align: middle;\n",
       "    }\n",
       "\n",
       "    .dataframe tbody tr th {\n",
       "        vertical-align: top;\n",
       "    }\n",
       "\n",
       "    .dataframe thead th {\n",
       "        text-align: right;\n",
       "    }\n",
       "</style>\n",
       "<table border=\"1\" class=\"dataframe\">\n",
       "  <thead>\n",
       "    <tr style=\"text-align: right;\">\n",
       "      <th>TARGET</th>\n",
       "      <th>0</th>\n",
       "      <th>1</th>\n",
       "      <th>PERCENT</th>\n",
       "    </tr>\n",
       "    <tr>\n",
       "      <th>OCCUPATION_TYPE</th>\n",
       "      <th></th>\n",
       "      <th></th>\n",
       "      <th></th>\n",
       "    </tr>\n",
       "  </thead>\n",
       "  <tbody>\n",
       "    <tr>\n",
       "      <th>Accountants</th>\n",
       "      <td>1604</td>\n",
       "      <td>91</td>\n",
       "      <td>5.368732</td>\n",
       "    </tr>\n",
       "    <tr>\n",
       "      <th>Cleaning staff</th>\n",
       "      <td>1047</td>\n",
       "      <td>115</td>\n",
       "      <td>9.896730</td>\n",
       "    </tr>\n",
       "    <tr>\n",
       "      <th>Cooking staff</th>\n",
       "      <td>1247</td>\n",
       "      <td>148</td>\n",
       "      <td>10.609319</td>\n",
       "    </tr>\n",
       "    <tr>\n",
       "      <th>Core staff</th>\n",
       "      <td>4252</td>\n",
       "      <td>332</td>\n",
       "      <td>7.242583</td>\n",
       "    </tr>\n",
       "    <tr>\n",
       "      <th>Drivers</th>\n",
       "      <td>3667</td>\n",
       "      <td>493</td>\n",
       "      <td>11.850962</td>\n",
       "    </tr>\n",
       "    <tr>\n",
       "      <th>HR staff</th>\n",
       "      <td>85</td>\n",
       "      <td>8</td>\n",
       "      <td>8.602151</td>\n",
       "    </tr>\n",
       "    <tr>\n",
       "      <th>High skill tech staff</th>\n",
       "      <td>2096</td>\n",
       "      <td>140</td>\n",
       "      <td>6.261181</td>\n",
       "    </tr>\n",
       "    <tr>\n",
       "      <th>IT staff</th>\n",
       "      <td>75</td>\n",
       "      <td>1</td>\n",
       "      <td>1.315789</td>\n",
       "    </tr>\n",
       "    <tr>\n",
       "      <th>Laborers</th>\n",
       "      <td>19122</td>\n",
       "      <td>2233</td>\n",
       "      <td>10.456568</td>\n",
       "    </tr>\n",
       "    <tr>\n",
       "      <th>Low-skill Laborers</th>\n",
       "      <td>482</td>\n",
       "      <td>98</td>\n",
       "      <td>16.896552</td>\n",
       "    </tr>\n",
       "    <tr>\n",
       "      <th>Managers</th>\n",
       "      <td>3185</td>\n",
       "      <td>233</td>\n",
       "      <td>6.816852</td>\n",
       "    </tr>\n",
       "    <tr>\n",
       "      <th>Medicine staff</th>\n",
       "      <td>1505</td>\n",
       "      <td>131</td>\n",
       "      <td>8.007335</td>\n",
       "    </tr>\n",
       "    <tr>\n",
       "      <th>Private service staff</th>\n",
       "      <td>496</td>\n",
       "      <td>44</td>\n",
       "      <td>8.148148</td>\n",
       "    </tr>\n",
       "    <tr>\n",
       "      <th>Realty agents</th>\n",
       "      <td>118</td>\n",
       "      <td>15</td>\n",
       "      <td>11.278195</td>\n",
       "    </tr>\n",
       "    <tr>\n",
       "      <th>Sales staff</th>\n",
       "      <td>6040</td>\n",
       "      <td>680</td>\n",
       "      <td>10.119048</td>\n",
       "    </tr>\n",
       "    <tr>\n",
       "      <th>Secretaries</th>\n",
       "      <td>207</td>\n",
       "      <td>15</td>\n",
       "      <td>6.756757</td>\n",
       "    </tr>\n",
       "    <tr>\n",
       "      <th>Security staff</th>\n",
       "      <td>1409</td>\n",
       "      <td>166</td>\n",
       "      <td>10.539683</td>\n",
       "    </tr>\n",
       "    <tr>\n",
       "      <th>Waiters/barmen staff</th>\n",
       "      <td>287</td>\n",
       "      <td>35</td>\n",
       "      <td>10.869565</td>\n",
       "    </tr>\n",
       "  </tbody>\n",
       "</table>\n",
       "</div>"
      ],
      "text/plain": [
       "TARGET                     0     1    PERCENT\n",
       "OCCUPATION_TYPE                              \n",
       "Accountants             1604    91   5.368732\n",
       "Cleaning staff          1047   115   9.896730\n",
       "Cooking staff           1247   148  10.609319\n",
       "Core staff              4252   332   7.242583\n",
       "Drivers                 3667   493  11.850962\n",
       "HR staff                  85     8   8.602151\n",
       "High skill tech staff   2096   140   6.261181\n",
       "IT staff                  75     1   1.315789\n",
       "Laborers               19122  2233  10.456568\n",
       "Low-skill Laborers       482    98  16.896552\n",
       "Managers                3185   233   6.816852\n",
       "Medicine staff          1505   131   8.007335\n",
       "Private service staff    496    44   8.148148\n",
       "Realty agents            118    15  11.278195\n",
       "Sales staff             6040   680  10.119048\n",
       "Secretaries              207    15   6.756757\n",
       "Security staff          1409   166  10.539683\n",
       "Waiters/barmen staff     287    35  10.869565"
      ]
     },
     "execution_count": 82,
     "metadata": {},
     "output_type": "execute_result"
    }
   ],
   "source": [
    "working=loan_df[loan_df['NAME_INCOME_TYPE']=='Working']\n",
    "table3=working.pivot_table(index=['OCCUPATION_TYPE'],values='SK_ID_CURR',columns='TARGET',aggfunc='count')\n",
    "table3['PERCENT']=table3[1]/(table3[1]+table3[0])*100\n",
    "table3"
   ]
  },
  {
   "cell_type": "code",
   "execution_count": 83,
   "id": "3d0e4664",
   "metadata": {},
   "outputs": [
    {
     "data": {
      "image/png": "[encoded data removed]",
      "text/plain": [
       "<Figure size 2880x720 with 1 Axes>"
      ]
     },
     "metadata": {
      "needs_background": "light"
     },
     "output_type": "display_data"
    }
   ],
   "source": [
    "fig,ax=plt.subplots(figsize=(40,10))\n",
    "\n",
    "sns.countplot(data=loan_df,x='OCCUPATION_TYPE',hue='TARGET')\n",
    "plt.xlabel('count',fontsize=15)\n",
    "plt.legend(fontsize=15)\n",
    "plt.tick_params(axis='both',which='major',labelsize=15)\n",
    "for bar in ax.patches:\n",
    "    percentage = f\"{round(bar.get_height() /loan_df.shape[0]*100, 2)}%\"\n",
    "    x = bar.get_x() + bar.get_width() /2                        \n",
    "    y = bar.get_height()                                           \n",
    "    ax.annotate(percentage, (x, y), va = \"bottom\", ha =\"center\" )   \n",
    "                                                                    \n",
    "plt.show()\n"
   ]
  },
  {
   "cell_type": "code",
   "execution_count": null,
   "id": "d28e6fff",
   "metadata": {},
   "outputs": [],
   "source": []
  },
  {
   "cell_type": "markdown",
   "id": "5037428c",
   "metadata": {},
   "source": [
    "## Which family status have more off targets:"
   ]
  },
  {
   "cell_type": "code",
   "execution_count": 84,
   "id": "8071f6eb",
   "metadata": {},
   "outputs": [
    {
     "name": "stderr",
     "output_type": "stream",
     "text": [
      "C:\\Users\\ASUS\\AppData\\Local\\Temp\\ipykernel_15472\\2514017545.py:2: SettingWithCopyWarning: \n",
      "A value is trying to be set on a copy of a slice from a DataFrame\n",
      "\n",
      "See the caveats in the documentation: https://pandas.pydata.org/pandas-docs/stable/user_guide/indexing.html#returning-a-view-versus-a-copy\n",
      "  loan_df.drop(resc.index,axis=0,inplace=True)\n"
     ]
    }
   ],
   "source": [
    "resc=loan_df[loan_df['NAME_FAMILY_STATUS']=='Unknown']\n",
    "loan_df.drop(resc.index,axis=0,inplace=True)\n",
    "#removing the unknown value"
   ]
  },
  {
   "cell_type": "code",
   "execution_count": 85,
   "id": "c7084c8c",
   "metadata": {
    "scrolled": true
   },
   "outputs": [
    {
     "data": {
      "text/html": [
       "<div>\n",
       "<style scoped>\n",
       "    .dataframe tbody tr th:only-of-type {\n",
       "        vertical-align: middle;\n",
       "    }\n",
       "\n",
       "    .dataframe tbody tr th {\n",
       "        vertical-align: top;\n",
       "    }\n",
       "\n",
       "    .dataframe thead th {\n",
       "        text-align: right;\n",
       "    }\n",
       "</style>\n",
       "<table border=\"1\" class=\"dataframe\">\n",
       "  <thead>\n",
       "    <tr style=\"text-align: right;\">\n",
       "      <th>TARGET</th>\n",
       "      <th>0</th>\n",
       "      <th>1</th>\n",
       "      <th>PERCENT</th>\n",
       "    </tr>\n",
       "    <tr>\n",
       "      <th>NAME_FAMILY_STATUS</th>\n",
       "      <th></th>\n",
       "      <th></th>\n",
       "      <th></th>\n",
       "    </tr>\n",
       "  </thead>\n",
       "  <tbody>\n",
       "    <tr>\n",
       "      <th>Civil marriage</th>\n",
       "      <td>8770</td>\n",
       "      <td>996</td>\n",
       "      <td>10.198648</td>\n",
       "    </tr>\n",
       "    <tr>\n",
       "      <th>Married</th>\n",
       "      <td>59255</td>\n",
       "      <td>4792</td>\n",
       "      <td>7.482005</td>\n",
       "    </tr>\n",
       "    <tr>\n",
       "      <th>Separated</th>\n",
       "      <td>5803</td>\n",
       "      <td>544</td>\n",
       "      <td>8.570978</td>\n",
       "    </tr>\n",
       "    <tr>\n",
       "      <th>Single / not married</th>\n",
       "      <td>13106</td>\n",
       "      <td>1457</td>\n",
       "      <td>10.004807</td>\n",
       "    </tr>\n",
       "    <tr>\n",
       "      <th>Widow</th>\n",
       "      <td>4952</td>\n",
       "      <td>300</td>\n",
       "      <td>5.712110</td>\n",
       "    </tr>\n",
       "  </tbody>\n",
       "</table>\n",
       "</div>"
      ],
      "text/plain": [
       "TARGET                    0     1    PERCENT\n",
       "NAME_FAMILY_STATUS                          \n",
       "Civil marriage         8770   996  10.198648\n",
       "Married               59255  4792   7.482005\n",
       "Separated              5803   544   8.570978\n",
       "Single / not married  13106  1457  10.004807\n",
       "Widow                  4952   300   5.712110"
      ]
     },
     "execution_count": 85,
     "metadata": {},
     "output_type": "execute_result"
    }
   ],
   "source": [
    "table4=loan_df.pivot_table(index=['NAME_FAMILY_STATUS'],values='SK_ID_CURR',columns='TARGET',aggfunc='count')\n",
    "table4['PERCENT']=table4[1]/(table4[1]+table4[0])*100\n",
    "#table4=table4.drop(table4['Unknown'],axis=1)\n",
    "\n",
    "table4"
   ]
  },
  {
   "cell_type": "code",
   "execution_count": 86,
   "id": "acf9bfe0",
   "metadata": {},
   "outputs": [
    {
     "data": {
      "text/html": [
       "<style type=\"text/css\">\n",
       "</style>\n",
       "<table id=\"T_56fdb\">\n",
       "  <thead>\n",
       "    <tr>\n",
       "      <th class=\"blank level0\" >&nbsp;</th>\n",
       "      <th id=\"T_56fdb_level0_col0\" class=\"col_heading level0 col0\" >NAME_FAMILY_STATUS</th>\n",
       "      <th id=\"T_56fdb_level0_col1\" class=\"col_heading level0 col1\" >TARGET</th>\n",
       "      <th id=\"T_56fdb_level0_col2\" class=\"col_heading level0 col2\" >count</th>\n",
       "      <th id=\"T_56fdb_level0_col3\" class=\"col_heading level0 col3\" >percent</th>\n",
       "    </tr>\n",
       "  </thead>\n",
       "  <tbody>\n",
       "    <tr>\n",
       "      <th id=\"T_56fdb_level0_row0\" class=\"row_heading level0 row0\" >0</th>\n",
       "      <td id=\"T_56fdb_row0_col0\" class=\"data row0 col0\" >Married</td>\n",
       "      <td id=\"T_56fdb_row0_col1\" class=\"data row0 col1\" >0</td>\n",
       "      <td id=\"T_56fdb_row0_col2\" class=\"data row0 col2\" >59,255</td>\n",
       "      <td id=\"T_56fdb_row0_col3\" class=\"data row0 col3\" >59.27%</td>\n",
       "    </tr>\n",
       "    <tr>\n",
       "      <th id=\"T_56fdb_level0_row1\" class=\"row_heading level0 row1\" >1</th>\n",
       "      <td id=\"T_56fdb_row1_col0\" class=\"data row1 col0\" >Single / not married</td>\n",
       "      <td id=\"T_56fdb_row1_col1\" class=\"data row1 col1\" >0</td>\n",
       "      <td id=\"T_56fdb_row1_col2\" class=\"data row1 col2\" >13,106</td>\n",
       "      <td id=\"T_56fdb_row1_col3\" class=\"data row1 col3\" >13.11%</td>\n",
       "    </tr>\n",
       "    <tr>\n",
       "      <th id=\"T_56fdb_level0_row2\" class=\"row_heading level0 row2\" >2</th>\n",
       "      <td id=\"T_56fdb_row2_col0\" class=\"data row2 col0\" >Civil marriage</td>\n",
       "      <td id=\"T_56fdb_row2_col1\" class=\"data row2 col1\" >0</td>\n",
       "      <td id=\"T_56fdb_row2_col2\" class=\"data row2 col2\" >8,770</td>\n",
       "      <td id=\"T_56fdb_row2_col3\" class=\"data row2 col3\" >8.77%</td>\n",
       "    </tr>\n",
       "    <tr>\n",
       "      <th id=\"T_56fdb_level0_row3\" class=\"row_heading level0 row3\" >3</th>\n",
       "      <td id=\"T_56fdb_row3_col0\" class=\"data row3 col0\" >Separated</td>\n",
       "      <td id=\"T_56fdb_row3_col1\" class=\"data row3 col1\" >0</td>\n",
       "      <td id=\"T_56fdb_row3_col2\" class=\"data row3 col2\" >5,803</td>\n",
       "      <td id=\"T_56fdb_row3_col3\" class=\"data row3 col3\" >5.80%</td>\n",
       "    </tr>\n",
       "    <tr>\n",
       "      <th id=\"T_56fdb_level0_row4\" class=\"row_heading level0 row4\" >4</th>\n",
       "      <td id=\"T_56fdb_row4_col0\" class=\"data row4 col0\" >Widow</td>\n",
       "      <td id=\"T_56fdb_row4_col1\" class=\"data row4 col1\" >0</td>\n",
       "      <td id=\"T_56fdb_row4_col2\" class=\"data row4 col2\" >4,952</td>\n",
       "      <td id=\"T_56fdb_row4_col3\" class=\"data row4 col3\" >4.95%</td>\n",
       "    </tr>\n",
       "    <tr>\n",
       "      <th id=\"T_56fdb_level0_row5\" class=\"row_heading level0 row5\" >5</th>\n",
       "      <td id=\"T_56fdb_row5_col0\" class=\"data row5 col0\" >Married</td>\n",
       "      <td id=\"T_56fdb_row5_col1\" class=\"data row5 col1\" >1</td>\n",
       "      <td id=\"T_56fdb_row5_col2\" class=\"data row5 col2\" >4,792</td>\n",
       "      <td id=\"T_56fdb_row5_col3\" class=\"data row5 col3\" >4.79%</td>\n",
       "    </tr>\n",
       "    <tr>\n",
       "      <th id=\"T_56fdb_level0_row6\" class=\"row_heading level0 row6\" >6</th>\n",
       "      <td id=\"T_56fdb_row6_col0\" class=\"data row6 col0\" >Single / not married</td>\n",
       "      <td id=\"T_56fdb_row6_col1\" class=\"data row6 col1\" >1</td>\n",
       "      <td id=\"T_56fdb_row6_col2\" class=\"data row6 col2\" >1,457</td>\n",
       "      <td id=\"T_56fdb_row6_col3\" class=\"data row6 col3\" >1.46%</td>\n",
       "    </tr>\n",
       "    <tr>\n",
       "      <th id=\"T_56fdb_level0_row7\" class=\"row_heading level0 row7\" >7</th>\n",
       "      <td id=\"T_56fdb_row7_col0\" class=\"data row7 col0\" >Civil marriage</td>\n",
       "      <td id=\"T_56fdb_row7_col1\" class=\"data row7 col1\" >1</td>\n",
       "      <td id=\"T_56fdb_row7_col2\" class=\"data row7 col2\" >996</td>\n",
       "      <td id=\"T_56fdb_row7_col3\" class=\"data row7 col3\" >1.00%</td>\n",
       "    </tr>\n",
       "    <tr>\n",
       "      <th id=\"T_56fdb_level0_row8\" class=\"row_heading level0 row8\" >8</th>\n",
       "      <td id=\"T_56fdb_row8_col0\" class=\"data row8 col0\" >Separated</td>\n",
       "      <td id=\"T_56fdb_row8_col1\" class=\"data row8 col1\" >1</td>\n",
       "      <td id=\"T_56fdb_row8_col2\" class=\"data row8 col2\" >544</td>\n",
       "      <td id=\"T_56fdb_row8_col3\" class=\"data row8 col3\" >0.54%</td>\n",
       "    </tr>\n",
       "    <tr>\n",
       "      <th id=\"T_56fdb_level0_row9\" class=\"row_heading level0 row9\" >9</th>\n",
       "      <td id=\"T_56fdb_row9_col0\" class=\"data row9 col0\" >Widow</td>\n",
       "      <td id=\"T_56fdb_row9_col1\" class=\"data row9 col1\" >1</td>\n",
       "      <td id=\"T_56fdb_row9_col2\" class=\"data row9 col2\" >300</td>\n",
       "      <td id=\"T_56fdb_row9_col3\" class=\"data row9 col3\" >0.30%</td>\n",
       "    </tr>\n",
       "  </tbody>\n",
       "</table>\n"
      ],
      "text/plain": [
       "<pandas.io.formats.style.Styler at 0x1b70136cdc0>"
      ]
     },
     "execution_count": 86,
     "metadata": {},
     "output_type": "execute_result"
    }
   ],
   "source": [
    "import sidetable\n",
    "loan_df.stb.freq(['NAME_FAMILY_STATUS','TARGET'],style=True,cum_cols=False)\n"
   ]
  },
  {
   "cell_type": "code",
   "execution_count": 87,
   "id": "f488a324",
   "metadata": {
    "scrolled": true
   },
   "outputs": [
    {
     "data": {
      "image/png": "[encoded data removed]",
      "text/plain": [
       "<Figure size 1080x720 with 1 Axes>"
      ]
     },
     "metadata": {
      "needs_background": "light"
     },
     "output_type": "display_data"
    }
   ],
   "source": [
    "fig,ax=plt.subplots(figsize=(15,10))\n",
    "\n",
    "sns.countplot(data=loan_df,x='NAME_FAMILY_STATUS',hue='TARGET')\n",
    "plt.xlabel('count',fontsize=15)\n",
    "plt.legend(fontsize=15)\n",
    "plt.tick_params(axis='both',which='major',labelsize=15)\n",
    "for bar in ax.patches:\n",
    "    percentage = f\"{round(bar.get_height() /loan_df.shape[0]*100, 2)}%\"\n",
    "    x = bar.get_x() + bar.get_width() /2                        \n",
    "    y = bar.get_height()                                           \n",
    "    ax.annotate(percentage, (x, y), va = \"bottom\", ha =\"center\" )   \n",
    "                                                                    \n",
    "plt.show()"
   ]
  },
  {
   "cell_type": "code",
   "execution_count": 88,
   "id": "32ae57a3",
   "metadata": {},
   "outputs": [
    {
     "name": "stdout",
     "output_type": "stream",
     "text": [
      "p value= 0.5654857364894255\n",
      "propotions are similar so H0 hold true\n"
     ]
    }
   ],
   "source": [
    "#Ho: propotions are similar\n",
    "#Ha: propotions are not similar\n",
    "\n",
    "data=table4.loc[['Single / not married', 'Civil marriage']]\n",
    "stat,p,dof,expected=chi2_contingency(data)\n",
    "alpha=0.05\n",
    "print('p value=',p)\n",
    "if p<= alpha:\n",
    "    print('propotions are differnt for family status reject H0')\n",
    "else:\n",
    "    print('propotions are similar so H0 hold true')"
   ]
  },
  {
   "cell_type": "code",
   "execution_count": 89,
   "id": "3db9363d",
   "metadata": {},
   "outputs": [
    {
     "name": "stdout",
     "output_type": "stream",
     "text": [
      "p value= 3.328917744724868e-11\n",
      "propotions are differnt for family status reject H0\n"
     ]
    }
   ],
   "source": [
    "#Ho: propotions are similar\n",
    "#Ha: propotions are not similar\n",
    "\n",
    "data=table4.loc[['Married', 'Separated']]\n",
    "stat,p,dof,expected=chi2_contingency(data)\n",
    "alpha=0.05\n",
    "print('p value=',p)\n",
    "if p<= alpha:\n",
    "    print('propotions are differnt for family status reject H0')\n",
    "else:\n",
    "    print('propotions are similar so H0 hold true')"
   ]
  },
  {
   "cell_type": "markdown",
   "id": "bd17cc68",
   "metadata": {},
   "source": [
    "### Interpertation:\n",
    "* considering the whole data maried women had the most off-targets, its is because they are acounting more than 50% of the data.\n",
    "* civil mariage and singles have 10% of off-target making it as the largest,while widdow had the least persentage with 5%\n",
    "* Civil Mariage and singles have a similar set of patern while others doesnt follow this pathway,\n",
    "* so we cant conclude that Target and Family status are related as H0 doesnt holds True."
   ]
  },
  {
   "cell_type": "markdown",
   "id": "bc8ffe97",
   "metadata": {},
   "source": [
    "### Relation betweenTarget and MOBILE REACHABLE"
   ]
  },
  {
   "cell_type": "code",
   "execution_count": 90,
   "id": "873758e0",
   "metadata": {},
   "outputs": [
    {
     "data": {
      "text/html": [
       "<div>\n",
       "<style scoped>\n",
       "    .dataframe tbody tr th:only-of-type {\n",
       "        vertical-align: middle;\n",
       "    }\n",
       "\n",
       "    .dataframe tbody tr th {\n",
       "        vertical-align: top;\n",
       "    }\n",
       "\n",
       "    .dataframe thead th {\n",
       "        text-align: right;\n",
       "    }\n",
       "</style>\n",
       "<table border=\"1\" class=\"dataframe\">\n",
       "  <thead>\n",
       "    <tr style=\"text-align: right;\">\n",
       "      <th>TARGET</th>\n",
       "      <th>0</th>\n",
       "      <th>1</th>\n",
       "      <th>PERCENT</th>\n",
       "    </tr>\n",
       "    <tr>\n",
       "      <th>MOBILE_REACHABLE</th>\n",
       "      <th></th>\n",
       "      <th></th>\n",
       "      <th></th>\n",
       "    </tr>\n",
       "  </thead>\n",
       "  <tbody>\n",
       "    <tr>\n",
       "      <th>0</th>\n",
       "      <td>188</td>\n",
       "      <td>13</td>\n",
       "      <td>6.467662</td>\n",
       "    </tr>\n",
       "    <tr>\n",
       "      <th>1</th>\n",
       "      <td>91698</td>\n",
       "      <td>8076</td>\n",
       "      <td>8.094293</td>\n",
       "    </tr>\n",
       "  </tbody>\n",
       "</table>\n",
       "</div>"
      ],
      "text/plain": [
       "TARGET                0     1   PERCENT\n",
       "MOBILE_REACHABLE                       \n",
       "0                   188    13  6.467662\n",
       "1                 91698  8076  8.094293"
      ]
     },
     "execution_count": 90,
     "metadata": {},
     "output_type": "execute_result"
    }
   ],
   "source": [
    "table5=pd.pivot_table(data=loan_df,index=['MOBILE_REACHABLE'],values='SK_ID_CURR',columns='TARGET',aggfunc='count')\n",
    "table5['PERCENT']=table5[1]/(table5[1]+table5[0])*100\n",
    "table5\n"
   ]
  },
  {
   "cell_type": "code",
   "execution_count": 91,
   "id": "70b49933",
   "metadata": {},
   "outputs": [
    {
     "name": "stdout",
     "output_type": "stream",
     "text": [
      "p value= 2.2834899668696003e-299\n",
      "propotions are differnt for mobile rechargable reject H0\n"
     ]
    }
   ],
   "source": [
    "#Ho: propotions are similar\n",
    "#Ha: propotions are not similar\n",
    "\n",
    "data=table5.loc[[0, 1]]\n",
    "stat,p,dof,expected=chi2_contingency(data)\n",
    "alpha=0.05\n",
    "print('p value=',p)\n",
    "if p<= alpha:\n",
    "    print('propotions are differnt for mobile rechargable reject H0')\n",
    "else:\n",
    "    print('propotions are similar so H0 hold true')"
   ]
  },
  {
   "cell_type": "markdown",
   "id": "0faa5ca6",
   "metadata": {},
   "source": [
    "### Interpertation:\n",
    "* There is'nt  any paticular relation between recharged mobile and off-Targets"
   ]
  },
  {
   "cell_type": "markdown",
   "id": "00f4ec70",
   "metadata": {},
   "source": [
    "### RElation between Flag email and Target"
   ]
  },
  {
   "cell_type": "code",
   "execution_count": 92,
   "id": "77bf6e97",
   "metadata": {
    "scrolled": false
   },
   "outputs": [
    {
     "data": {
      "text/html": [
       "<div>\n",
       "<style scoped>\n",
       "    .dataframe tbody tr th:only-of-type {\n",
       "        vertical-align: middle;\n",
       "    }\n",
       "\n",
       "    .dataframe tbody tr th {\n",
       "        vertical-align: top;\n",
       "    }\n",
       "\n",
       "    .dataframe thead th {\n",
       "        text-align: right;\n",
       "    }\n",
       "</style>\n",
       "<table border=\"1\" class=\"dataframe\">\n",
       "  <thead>\n",
       "    <tr style=\"text-align: right;\">\n",
       "      <th>TARGET</th>\n",
       "      <th>0</th>\n",
       "      <th>1</th>\n",
       "      <th>PERCENT</th>\n",
       "    </tr>\n",
       "    <tr>\n",
       "      <th>FLAG_EMAIL</th>\n",
       "      <th></th>\n",
       "      <th></th>\n",
       "      <th></th>\n",
       "    </tr>\n",
       "  </thead>\n",
       "  <tbody>\n",
       "    <tr>\n",
       "      <th>0</th>\n",
       "      <td>86728</td>\n",
       "      <td>7653</td>\n",
       "      <td>8.108624</td>\n",
       "    </tr>\n",
       "    <tr>\n",
       "      <th>1</th>\n",
       "      <td>5179</td>\n",
       "      <td>440</td>\n",
       "      <td>7.830575</td>\n",
       "    </tr>\n",
       "  </tbody>\n",
       "</table>\n",
       "</div>"
      ],
      "text/plain": [
       "TARGET          0     1   PERCENT\n",
       "FLAG_EMAIL                       \n",
       "0           86728  7653  8.108624\n",
       "1            5179   440  7.830575"
      ]
     },
     "execution_count": 92,
     "metadata": {},
     "output_type": "execute_result"
    }
   ],
   "source": [
    "\n",
    "table6=pd.pivot_table(data=df,index=['FLAG_EMAIL'],values='SK_ID_CURR',columns='TARGET',aggfunc='count')\n",
    "table6['PERCENT']=table6[1]/(table6[1]+table6[0])*100\n",
    "table6"
   ]
  },
  {
   "cell_type": "code",
   "execution_count": 93,
   "id": "2103bd0b",
   "metadata": {},
   "outputs": [
    {
     "name": "stdout",
     "output_type": "stream",
     "text": [
      "p value= 3.483867437399033e-13\n",
      "propotions are differnt by loan type reject H0\n"
     ]
    }
   ],
   "source": [
    "data=table6.loc[[0, 1]]\n",
    "stat,p,dof,expected=chi2_contingency(data)\n",
    "alpha=0.05\n",
    "print('p value=',p)\n",
    "if p<= alpha:\n",
    "    print('propotions are differnt by loan type reject H0')\n",
    "else:\n",
    "    print('propotions are similar so H0 hold true')"
   ]
  },
  {
   "cell_type": "code",
   "execution_count": 94,
   "id": "16c50329",
   "metadata": {
    "scrolled": true
   },
   "outputs": [
    {
     "data": {
      "image/png": "[encoded data removed]",
      "text/plain": [
       "<Figure size 432x288 with 1 Axes>"
      ]
     },
     "metadata": {
      "needs_background": "light"
     },
     "output_type": "display_data"
    }
   ],
   "source": [
    "sns.countplot(data=loan_df,x='FLAG_EMAIL',hue='TARGET')\n",
    "plt.xlabel('count',fontsize=15)\n",
    "plt.legend(fontsize=15)\n",
    "plt.tick_params(axis='both',which='major',labelsize=15)\n"
   ]
  },
  {
   "cell_type": "markdown",
   "id": "4c66e4d8",
   "metadata": {},
   "source": [
    "# Interpertations\n",
    "\n",
    "* The propotions are differnt, even though the persentage of seperation between them is realy small."
   ]
  },
  {
   "cell_type": "markdown",
   "id": "6dbb2aa2",
   "metadata": {},
   "source": [
    "### Relation betweeen dotal document submited and target"
   ]
  },
  {
   "cell_type": "code",
   "execution_count": 95,
   "id": "5ecb95c7",
   "metadata": {
    "scrolled": true
   },
   "outputs": [
    {
     "data": {
      "text/html": [
       "<div>\n",
       "<style scoped>\n",
       "    .dataframe tbody tr th:only-of-type {\n",
       "        vertical-align: middle;\n",
       "    }\n",
       "\n",
       "    .dataframe tbody tr th {\n",
       "        vertical-align: top;\n",
       "    }\n",
       "\n",
       "    .dataframe thead th {\n",
       "        text-align: right;\n",
       "    }\n",
       "</style>\n",
       "<table border=\"1\" class=\"dataframe\">\n",
       "  <thead>\n",
       "    <tr style=\"text-align: right;\">\n",
       "      <th>TARGET</th>\n",
       "      <th>0</th>\n",
       "      <th>1</th>\n",
       "      <th>PERCENT</th>\n",
       "    </tr>\n",
       "    <tr>\n",
       "      <th>TOTAL_DOC_SUBMITTED</th>\n",
       "      <th></th>\n",
       "      <th></th>\n",
       "      <th></th>\n",
       "    </tr>\n",
       "  </thead>\n",
       "  <tbody>\n",
       "    <tr>\n",
       "      <th>0</th>\n",
       "      <td>8988.0</td>\n",
       "      <td>548.0</td>\n",
       "      <td>5.746644</td>\n",
       "    </tr>\n",
       "    <tr>\n",
       "      <th>1</th>\n",
       "      <td>80436.0</td>\n",
       "      <td>7424.0</td>\n",
       "      <td>8.449807</td>\n",
       "    </tr>\n",
       "    <tr>\n",
       "      <th>2</th>\n",
       "      <td>2437.0</td>\n",
       "      <td>115.0</td>\n",
       "      <td>4.506270</td>\n",
       "    </tr>\n",
       "    <tr>\n",
       "      <th>3</th>\n",
       "      <td>46.0</td>\n",
       "      <td>5.0</td>\n",
       "      <td>9.803922</td>\n",
       "    </tr>\n",
       "    <tr>\n",
       "      <th>4</th>\n",
       "      <td>NaN</td>\n",
       "      <td>1.0</td>\n",
       "      <td>NaN</td>\n",
       "    </tr>\n",
       "  </tbody>\n",
       "</table>\n",
       "</div>"
      ],
      "text/plain": [
       "TARGET                     0       1   PERCENT\n",
       "TOTAL_DOC_SUBMITTED                           \n",
       "0                     8988.0   548.0  5.746644\n",
       "1                    80436.0  7424.0  8.449807\n",
       "2                     2437.0   115.0  4.506270\n",
       "3                       46.0     5.0  9.803922\n",
       "4                        NaN     1.0       NaN"
      ]
     },
     "execution_count": 95,
     "metadata": {},
     "output_type": "execute_result"
    }
   ],
   "source": [
    "table7=pd.pivot_table(data=df,index=['TOTAL_DOC_SUBMITTED'],values='SK_ID_CURR',columns='TARGET',aggfunc='count')\n",
    "table7['PERCENT']=table7[1]/(table7[1]+table7[0])*100\n",
    "table7"
   ]
  },
  {
   "cell_type": "code",
   "execution_count": 96,
   "id": "4b6e9502",
   "metadata": {
    "scrolled": true
   },
   "outputs": [
    {
     "data": {
      "text/html": [
       "<style type=\"text/css\">\n",
       "</style>\n",
       "<table id=\"T_77a6d\">\n",
       "  <thead>\n",
       "    <tr>\n",
       "      <th class=\"blank level0\" >&nbsp;</th>\n",
       "      <th id=\"T_77a6d_level0_col0\" class=\"col_heading level0 col0\" >TOTAL_DOC_SUBMITTED</th>\n",
       "      <th id=\"T_77a6d_level0_col1\" class=\"col_heading level0 col1\" >TARGET</th>\n",
       "      <th id=\"T_77a6d_level0_col2\" class=\"col_heading level0 col2\" >count</th>\n",
       "      <th id=\"T_77a6d_level0_col3\" class=\"col_heading level0 col3\" >percent</th>\n",
       "    </tr>\n",
       "  </thead>\n",
       "  <tbody>\n",
       "    <tr>\n",
       "      <th id=\"T_77a6d_level0_row0\" class=\"row_heading level0 row0\" >0</th>\n",
       "      <td id=\"T_77a6d_row0_col0\" class=\"data row0 col0\" >1</td>\n",
       "      <td id=\"T_77a6d_row0_col1\" class=\"data row0 col1\" >0</td>\n",
       "      <td id=\"T_77a6d_row0_col2\" class=\"data row0 col2\" >80,425</td>\n",
       "      <td id=\"T_77a6d_row0_col3\" class=\"data row0 col3\" >80.45%</td>\n",
       "    </tr>\n",
       "    <tr>\n",
       "      <th id=\"T_77a6d_level0_row1\" class=\"row_heading level0 row1\" >1</th>\n",
       "      <td id=\"T_77a6d_row1_col0\" class=\"data row1 col0\" >0</td>\n",
       "      <td id=\"T_77a6d_row1_col1\" class=\"data row1 col1\" >0</td>\n",
       "      <td id=\"T_77a6d_row1_col2\" class=\"data row1 col2\" >8,978</td>\n",
       "      <td id=\"T_77a6d_row1_col3\" class=\"data row1 col3\" >8.98%</td>\n",
       "    </tr>\n",
       "    <tr>\n",
       "      <th id=\"T_77a6d_level0_row2\" class=\"row_heading level0 row2\" >2</th>\n",
       "      <td id=\"T_77a6d_row2_col0\" class=\"data row2 col0\" >1</td>\n",
       "      <td id=\"T_77a6d_row2_col1\" class=\"data row2 col1\" >1</td>\n",
       "      <td id=\"T_77a6d_row2_col2\" class=\"data row2 col2\" >7,424</td>\n",
       "      <td id=\"T_77a6d_row2_col3\" class=\"data row2 col3\" >7.43%</td>\n",
       "    </tr>\n",
       "    <tr>\n",
       "      <th id=\"T_77a6d_level0_row3\" class=\"row_heading level0 row3\" >3</th>\n",
       "      <td id=\"T_77a6d_row3_col0\" class=\"data row3 col0\" >2</td>\n",
       "      <td id=\"T_77a6d_row3_col1\" class=\"data row3 col1\" >0</td>\n",
       "      <td id=\"T_77a6d_row3_col2\" class=\"data row3 col2\" >2,437</td>\n",
       "      <td id=\"T_77a6d_row3_col3\" class=\"data row3 col3\" >2.44%</td>\n",
       "    </tr>\n",
       "    <tr>\n",
       "      <th id=\"T_77a6d_level0_row4\" class=\"row_heading level0 row4\" >4</th>\n",
       "      <td id=\"T_77a6d_row4_col0\" class=\"data row4 col0\" >0</td>\n",
       "      <td id=\"T_77a6d_row4_col1\" class=\"data row4 col1\" >1</td>\n",
       "      <td id=\"T_77a6d_row4_col2\" class=\"data row4 col2\" >544</td>\n",
       "      <td id=\"T_77a6d_row4_col3\" class=\"data row4 col3\" >0.54%</td>\n",
       "    </tr>\n",
       "    <tr>\n",
       "      <th id=\"T_77a6d_level0_row5\" class=\"row_heading level0 row5\" >5</th>\n",
       "      <td id=\"T_77a6d_row5_col0\" class=\"data row5 col0\" >2</td>\n",
       "      <td id=\"T_77a6d_row5_col1\" class=\"data row5 col1\" >1</td>\n",
       "      <td id=\"T_77a6d_row5_col2\" class=\"data row5 col2\" >115</td>\n",
       "      <td id=\"T_77a6d_row5_col3\" class=\"data row5 col3\" >0.12%</td>\n",
       "    </tr>\n",
       "    <tr>\n",
       "      <th id=\"T_77a6d_level0_row6\" class=\"row_heading level0 row6\" >6</th>\n",
       "      <td id=\"T_77a6d_row6_col0\" class=\"data row6 col0\" >3</td>\n",
       "      <td id=\"T_77a6d_row6_col1\" class=\"data row6 col1\" >0</td>\n",
       "      <td id=\"T_77a6d_row6_col2\" class=\"data row6 col2\" >46</td>\n",
       "      <td id=\"T_77a6d_row6_col3\" class=\"data row6 col3\" >0.05%</td>\n",
       "    </tr>\n",
       "    <tr>\n",
       "      <th id=\"T_77a6d_level0_row7\" class=\"row_heading level0 row7\" >7</th>\n",
       "      <td id=\"T_77a6d_row7_col0\" class=\"data row7 col0\" >3</td>\n",
       "      <td id=\"T_77a6d_row7_col1\" class=\"data row7 col1\" >1</td>\n",
       "      <td id=\"T_77a6d_row7_col2\" class=\"data row7 col2\" >5</td>\n",
       "      <td id=\"T_77a6d_row7_col3\" class=\"data row7 col3\" >0.01%</td>\n",
       "    </tr>\n",
       "    <tr>\n",
       "      <th id=\"T_77a6d_level0_row8\" class=\"row_heading level0 row8\" >8</th>\n",
       "      <td id=\"T_77a6d_row8_col0\" class=\"data row8 col0\" >4</td>\n",
       "      <td id=\"T_77a6d_row8_col1\" class=\"data row8 col1\" >1</td>\n",
       "      <td id=\"T_77a6d_row8_col2\" class=\"data row8 col2\" >1</td>\n",
       "      <td id=\"T_77a6d_row8_col3\" class=\"data row8 col3\" >0.00%</td>\n",
       "    </tr>\n",
       "  </tbody>\n",
       "</table>\n"
      ],
      "text/plain": [
       "<pandas.io.formats.style.Styler at 0x1b7009bb1c0>"
      ]
     },
     "execution_count": 96,
     "metadata": {},
     "output_type": "execute_result"
    }
   ],
   "source": [
    "loan_df.stb.freq(['TOTAL_DOC_SUBMITTED','TARGET'],style=True,cum_cols=False)"
   ]
  },
  {
   "cell_type": "markdown",
   "id": "5e5083dd",
   "metadata": {},
   "source": [
    "# interpertaion\n",
    "\n",
    "* people who had submited 3 documents had more off targets compared to others, this is because they produce or submit more documents to prove that they are eligible of loan.\n",
    "* it is noted that those who submit more documents may subject to off-target."
   ]
  },
  {
   "cell_type": "markdown",
   "id": "2273173a",
   "metadata": {},
   "source": [
    "# ploting a heatmap"
   ]
  },
  {
   "cell_type": "code",
   "execution_count": 100,
   "id": "31b1b8a6",
   "metadata": {
    "scrolled": true
   },
   "outputs": [
    {
     "data": {
      "image/png": "[encoded data removed]",
      "text/plain": [
       "<Figure size 1080x432 with 2 Axes>"
      ]
     },
     "metadata": {
      "needs_background": "light"
     },
     "output_type": "display_data"
    }
   ],
   "source": [
    "fig,ax=plt.subplots(figsize=(15,6))\n",
    "sns.heatmap(loan_df.corr(),cmap = \"mako\",annot=True,linewidth =5).set_title('Heat map')\n",
    "plt.show()"
   ]
  },
  {
   "cell_type": "markdown",
   "id": "27f3d05c",
   "metadata": {},
   "source": [
    "# Relation between average income and Target"
   ]
  },
  {
   "cell_type": "code",
   "execution_count": 107,
   "id": "82c07b27",
   "metadata": {
    "scrolled": true
   },
   "outputs": [
    {
     "data": {
      "text/plain": [
       "<AxesSubplot:title={'center':'Avg icome with resopct to target'}, xlabel='target', ylabel='avg.income total'>"
      ]
     },
     "execution_count": 107,
     "metadata": {},
     "output_type": "execute_result"
    },
    {
     "data": {
      "image/png": "[encoded data removed]",
      "text/plain": [
       "<Figure size 576x432 with 1 Axes>"
      ]
     },
     "metadata": {
      "needs_background": "light"
     },
     "output_type": "display_data"
    }
   ],
   "source": [
    "loan_df.groupby(['TARGET'])['AMT_INCOME_TOTAL'].aggregate(lambda x: x.mean()).plot(kind='bar' ,xlabel='target',ylabel='avg.income total' ,title='Avg icome with resopct to target',figsize=(8,6), fontsize=12,color=['slategray','lightcoral'])"
   ]
  },
  {
   "cell_type": "markdown",
   "id": "982078cd",
   "metadata": {},
   "source": [
    "* There is'nt any big relation between terget and average income\n"
   ]
  },
  {
   "cell_type": "markdown",
   "id": "87b290ca",
   "metadata": {},
   "source": [
    "# Relation between Days employed and target"
   ]
  },
  {
   "cell_type": "code",
   "execution_count": 106,
   "id": "f43a91c8",
   "metadata": {
    "scrolled": true
   },
   "outputs": [
    {
     "data": {
      "text/plain": [
       "<AxesSubplot:title={'center':'Avg days employed with respect to target'}, ylabel='target'>"
      ]
     },
     "execution_count": 106,
     "metadata": {},
     "output_type": "execute_result"
    },
    {
     "data": {
      "image/png": "[encoded data removed]",
      "text/plain": [
       "<Figure size 576x432 with 1 Axes>"
      ]
     },
     "metadata": {
      "needs_background": "light"
     },
     "output_type": "display_data"
    }
   ],
   "source": [
    "loan_df.groupby(['TARGET'])['DAYS_EMPLOYED'].aggregate(lambda x: x.mean()).plot(kind='barh' ,xlabel='target',ylabel='avg.days employed total' ,title='Avg days employed with respect to target',figsize=(8,6), fontsize=12,color=['slategray','lightcoral'])"
   ]
  },
  {
   "cell_type": "markdown",
   "id": "8a377434",
   "metadata": {},
   "source": [
    "# Interpertation:\n",
    "\n",
    "* Here average days of employement of off-tagets are less compared to the other.\n",
    "* By  this reprasentation we can say that days of employment plays a signinficant roll in repaying the loan."
   ]
  },
  {
   "cell_type": "code",
   "execution_count": 103,
   "id": "2c5b112d",
   "metadata": {
    "scrolled": false
   },
   "outputs": [
    {
     "data": {
      "text/plain": [
       "count     99975.000000\n",
       "mean      63271.950908\n",
       "std      140822.592363\n",
       "min      -17531.000000\n",
       "25%       -2758.000000\n",
       "50%       -1219.000000\n",
       "75%        -291.500000\n",
       "max      365243.000000\n",
       "Name: DAYS_EMPLOYED, dtype: float64"
      ]
     },
     "execution_count": 103,
     "metadata": {},
     "output_type": "execute_result"
    }
   ],
   "source": [
    "loan_df['DAYS_EMPLOYED'].describe()"
   ]
  },
  {
   "cell_type": "code",
   "execution_count": 115,
   "id": "b0cd5b8b",
   "metadata": {},
   "outputs": [
    {
     "data": {
      "text/html": [
       "<div>\n",
       "<style scoped>\n",
       "    .dataframe tbody tr th:only-of-type {\n",
       "        vertical-align: middle;\n",
       "    }\n",
       "\n",
       "    .dataframe tbody tr th {\n",
       "        vertical-align: top;\n",
       "    }\n",
       "\n",
       "    .dataframe thead th {\n",
       "        text-align: right;\n",
       "    }\n",
       "</style>\n",
       "<table border=\"1\" class=\"dataframe\">\n",
       "  <thead>\n",
       "    <tr style=\"text-align: right;\">\n",
       "      <th></th>\n",
       "      <th>SK_ID_CURR</th>\n",
       "      <th>TARGET</th>\n",
       "      <th>NAME_CONTRACT_TYPE</th>\n",
       "      <th>GENDER</th>\n",
       "      <th>Car</th>\n",
       "      <th>House</th>\n",
       "      <th>CNT_CHILDREN</th>\n",
       "      <th>AMT_INCOME_TOTAL</th>\n",
       "      <th>AMT_CREDIT</th>\n",
       "      <th>AMT_GOODS_PRICE</th>\n",
       "      <th>...</th>\n",
       "      <th>DAYS_EMPLOYED</th>\n",
       "      <th>MOBILE</th>\n",
       "      <th>WORK_PHONE</th>\n",
       "      <th>HOME_PHONE</th>\n",
       "      <th>MOBILE_REACHABLE</th>\n",
       "      <th>FLAG_EMAIL</th>\n",
       "      <th>OCCUPATION_TYPE</th>\n",
       "      <th>CNT_FAM_MEMBERS</th>\n",
       "      <th>APPLICATION_DAY</th>\n",
       "      <th>TOTAL_DOC_SUBMITTED</th>\n",
       "    </tr>\n",
       "  </thead>\n",
       "  <tbody>\n",
       "    <tr>\n",
       "      <th>0</th>\n",
       "      <td>100002</td>\n",
       "      <td>1</td>\n",
       "      <td>Cash loans</td>\n",
       "      <td>M</td>\n",
       "      <td>N</td>\n",
       "      <td>Y</td>\n",
       "      <td>0</td>\n",
       "      <td>202500.0</td>\n",
       "      <td>406597.5</td>\n",
       "      <td>351000.0</td>\n",
       "      <td>...</td>\n",
       "      <td>-637</td>\n",
       "      <td>1</td>\n",
       "      <td>1</td>\n",
       "      <td>0</td>\n",
       "      <td>1</td>\n",
       "      <td>0</td>\n",
       "      <td>Laborers</td>\n",
       "      <td>1.0</td>\n",
       "      <td>WEDNESDAY</td>\n",
       "      <td>1</td>\n",
       "    </tr>\n",
       "    <tr>\n",
       "      <th>26</th>\n",
       "      <td>100031</td>\n",
       "      <td>1</td>\n",
       "      <td>Cash loans</td>\n",
       "      <td>F</td>\n",
       "      <td>N</td>\n",
       "      <td>Y</td>\n",
       "      <td>0</td>\n",
       "      <td>112500.0</td>\n",
       "      <td>979992.0</td>\n",
       "      <td>702000.0</td>\n",
       "      <td>...</td>\n",
       "      <td>-2628</td>\n",
       "      <td>1</td>\n",
       "      <td>1</td>\n",
       "      <td>0</td>\n",
       "      <td>1</td>\n",
       "      <td>0</td>\n",
       "      <td>Cooking staff</td>\n",
       "      <td>1.0</td>\n",
       "      <td>MONDAY</td>\n",
       "      <td>2</td>\n",
       "    </tr>\n",
       "    <tr>\n",
       "      <th>40</th>\n",
       "      <td>100047</td>\n",
       "      <td>1</td>\n",
       "      <td>Cash loans</td>\n",
       "      <td>M</td>\n",
       "      <td>N</td>\n",
       "      <td>Y</td>\n",
       "      <td>0</td>\n",
       "      <td>202500.0</td>\n",
       "      <td>1193580.0</td>\n",
       "      <td>855000.0</td>\n",
       "      <td>...</td>\n",
       "      <td>-1262</td>\n",
       "      <td>1</td>\n",
       "      <td>1</td>\n",
       "      <td>0</td>\n",
       "      <td>1</td>\n",
       "      <td>0</td>\n",
       "      <td>Laborers</td>\n",
       "      <td>2.0</td>\n",
       "      <td>TUESDAY</td>\n",
       "      <td>1</td>\n",
       "    </tr>\n",
       "    <tr>\n",
       "      <th>42</th>\n",
       "      <td>100049</td>\n",
       "      <td>1</td>\n",
       "      <td>Cash loans</td>\n",
       "      <td>F</td>\n",
       "      <td>N</td>\n",
       "      <td>N</td>\n",
       "      <td>0</td>\n",
       "      <td>135000.0</td>\n",
       "      <td>288873.0</td>\n",
       "      <td>238500.0</td>\n",
       "      <td>...</td>\n",
       "      <td>-3597</td>\n",
       "      <td>1</td>\n",
       "      <td>1</td>\n",
       "      <td>1</td>\n",
       "      <td>1</td>\n",
       "      <td>0</td>\n",
       "      <td>Sales staff</td>\n",
       "      <td>2.0</td>\n",
       "      <td>THURSDAY</td>\n",
       "      <td>1</td>\n",
       "    </tr>\n",
       "    <tr>\n",
       "      <th>81</th>\n",
       "      <td>100096</td>\n",
       "      <td>1</td>\n",
       "      <td>Cash loans</td>\n",
       "      <td>F</td>\n",
       "      <td>N</td>\n",
       "      <td>Y</td>\n",
       "      <td>0</td>\n",
       "      <td>81000.0</td>\n",
       "      <td>252000.0</td>\n",
       "      <td>252000.0</td>\n",
       "      <td>...</td>\n",
       "      <td>365243</td>\n",
       "      <td>1</td>\n",
       "      <td>0</td>\n",
       "      <td>0</td>\n",
       "      <td>1</td>\n",
       "      <td>0</td>\n",
       "      <td>Laborers</td>\n",
       "      <td>2.0</td>\n",
       "      <td>THURSDAY</td>\n",
       "      <td>1</td>\n",
       "    </tr>\n",
       "    <tr>\n",
       "      <th>...</th>\n",
       "      <td>...</td>\n",
       "      <td>...</td>\n",
       "      <td>...</td>\n",
       "      <td>...</td>\n",
       "      <td>...</td>\n",
       "      <td>...</td>\n",
       "      <td>...</td>\n",
       "      <td>...</td>\n",
       "      <td>...</td>\n",
       "      <td>...</td>\n",
       "      <td>...</td>\n",
       "      <td>...</td>\n",
       "      <td>...</td>\n",
       "      <td>...</td>\n",
       "      <td>...</td>\n",
       "      <td>...</td>\n",
       "      <td>...</td>\n",
       "      <td>...</td>\n",
       "      <td>...</td>\n",
       "      <td>...</td>\n",
       "      <td>...</td>\n",
       "    </tr>\n",
       "    <tr>\n",
       "      <th>99924</th>\n",
       "      <td>216008</td>\n",
       "      <td>1</td>\n",
       "      <td>Cash loans</td>\n",
       "      <td>M</td>\n",
       "      <td>N</td>\n",
       "      <td>Y</td>\n",
       "      <td>0</td>\n",
       "      <td>247500.0</td>\n",
       "      <td>509400.0</td>\n",
       "      <td>450000.0</td>\n",
       "      <td>...</td>\n",
       "      <td>-586</td>\n",
       "      <td>1</td>\n",
       "      <td>1</td>\n",
       "      <td>0</td>\n",
       "      <td>1</td>\n",
       "      <td>0</td>\n",
       "      <td>Laborers</td>\n",
       "      <td>1.0</td>\n",
       "      <td>FRIDAY</td>\n",
       "      <td>1</td>\n",
       "    </tr>\n",
       "    <tr>\n",
       "      <th>99932</th>\n",
       "      <td>216017</td>\n",
       "      <td>1</td>\n",
       "      <td>Cash loans</td>\n",
       "      <td>F</td>\n",
       "      <td>N</td>\n",
       "      <td>N</td>\n",
       "      <td>0</td>\n",
       "      <td>180000.0</td>\n",
       "      <td>485640.0</td>\n",
       "      <td>450000.0</td>\n",
       "      <td>...</td>\n",
       "      <td>-767</td>\n",
       "      <td>1</td>\n",
       "      <td>1</td>\n",
       "      <td>1</td>\n",
       "      <td>1</td>\n",
       "      <td>0</td>\n",
       "      <td>Sales staff</td>\n",
       "      <td>2.0</td>\n",
       "      <td>FRIDAY</td>\n",
       "      <td>1</td>\n",
       "    </tr>\n",
       "    <tr>\n",
       "      <th>99935</th>\n",
       "      <td>216021</td>\n",
       "      <td>1</td>\n",
       "      <td>Cash loans</td>\n",
       "      <td>F</td>\n",
       "      <td>N</td>\n",
       "      <td>Y</td>\n",
       "      <td>0</td>\n",
       "      <td>243000.0</td>\n",
       "      <td>495882.0</td>\n",
       "      <td>405000.0</td>\n",
       "      <td>...</td>\n",
       "      <td>-1662</td>\n",
       "      <td>1</td>\n",
       "      <td>1</td>\n",
       "      <td>0</td>\n",
       "      <td>1</td>\n",
       "      <td>0</td>\n",
       "      <td>Laborers</td>\n",
       "      <td>2.0</td>\n",
       "      <td>SATURDAY</td>\n",
       "      <td>1</td>\n",
       "    </tr>\n",
       "    <tr>\n",
       "      <th>99965</th>\n",
       "      <td>216055</td>\n",
       "      <td>1</td>\n",
       "      <td>Cash loans</td>\n",
       "      <td>F</td>\n",
       "      <td>Y</td>\n",
       "      <td>Y</td>\n",
       "      <td>0</td>\n",
       "      <td>225000.0</td>\n",
       "      <td>809136.0</td>\n",
       "      <td>643500.0</td>\n",
       "      <td>...</td>\n",
       "      <td>-1669</td>\n",
       "      <td>1</td>\n",
       "      <td>1</td>\n",
       "      <td>0</td>\n",
       "      <td>1</td>\n",
       "      <td>0</td>\n",
       "      <td>Laborers</td>\n",
       "      <td>2.0</td>\n",
       "      <td>SATURDAY</td>\n",
       "      <td>1</td>\n",
       "    </tr>\n",
       "    <tr>\n",
       "      <th>99967</th>\n",
       "      <td>216057</td>\n",
       "      <td>1</td>\n",
       "      <td>Cash loans</td>\n",
       "      <td>M</td>\n",
       "      <td>N</td>\n",
       "      <td>N</td>\n",
       "      <td>0</td>\n",
       "      <td>54000.0</td>\n",
       "      <td>360000.0</td>\n",
       "      <td>360000.0</td>\n",
       "      <td>...</td>\n",
       "      <td>-3190</td>\n",
       "      <td>1</td>\n",
       "      <td>1</td>\n",
       "      <td>1</td>\n",
       "      <td>1</td>\n",
       "      <td>0</td>\n",
       "      <td>Core staff</td>\n",
       "      <td>1.0</td>\n",
       "      <td>THURSDAY</td>\n",
       "      <td>1</td>\n",
       "    </tr>\n",
       "  </tbody>\n",
       "</table>\n",
       "<p>8089 rows × 24 columns</p>\n",
       "</div>"
      ],
      "text/plain": [
       "       SK_ID_CURR  TARGET NAME_CONTRACT_TYPE GENDER Car House  CNT_CHILDREN  \\\n",
       "0          100002       1         Cash loans      M   N     Y             0   \n",
       "26         100031       1         Cash loans      F   N     Y             0   \n",
       "40         100047       1         Cash loans      M   N     Y             0   \n",
       "42         100049       1         Cash loans      F   N     N             0   \n",
       "81         100096       1         Cash loans      F   N     Y             0   \n",
       "...           ...     ...                ...    ...  ..   ...           ...   \n",
       "99924      216008       1         Cash loans      M   N     Y             0   \n",
       "99932      216017       1         Cash loans      F   N     N             0   \n",
       "99935      216021       1         Cash loans      F   N     Y             0   \n",
       "99965      216055       1         Cash loans      F   Y     Y             0   \n",
       "99967      216057       1         Cash loans      M   N     N             0   \n",
       "\n",
       "       AMT_INCOME_TOTAL  AMT_CREDIT  AMT_GOODS_PRICE  ... DAYS_EMPLOYED  \\\n",
       "0              202500.0    406597.5         351000.0  ...          -637   \n",
       "26             112500.0    979992.0         702000.0  ...         -2628   \n",
       "40             202500.0   1193580.0         855000.0  ...         -1262   \n",
       "42             135000.0    288873.0         238500.0  ...         -3597   \n",
       "81              81000.0    252000.0         252000.0  ...        365243   \n",
       "...                 ...         ...              ...  ...           ...   \n",
       "99924          247500.0    509400.0         450000.0  ...          -586   \n",
       "99932          180000.0    485640.0         450000.0  ...          -767   \n",
       "99935          243000.0    495882.0         405000.0  ...         -1662   \n",
       "99965          225000.0    809136.0         643500.0  ...         -1669   \n",
       "99967           54000.0    360000.0         360000.0  ...         -3190   \n",
       "\n",
       "      MOBILE WORK_PHONE HOME_PHONE  MOBILE_REACHABLE  FLAG_EMAIL  \\\n",
       "0          1          1          0                 1           0   \n",
       "26         1          1          0                 1           0   \n",
       "40         1          1          0                 1           0   \n",
       "42         1          1          1                 1           0   \n",
       "81         1          0          0                 1           0   \n",
       "...      ...        ...        ...               ...         ...   \n",
       "99924      1          1          0                 1           0   \n",
       "99932      1          1          1                 1           0   \n",
       "99935      1          1          0                 1           0   \n",
       "99965      1          1          0                 1           0   \n",
       "99967      1          1          1                 1           0   \n",
       "\n",
       "       OCCUPATION_TYPE  CNT_FAM_MEMBERS  APPLICATION_DAY  TOTAL_DOC_SUBMITTED  \n",
       "0             Laborers              1.0        WEDNESDAY                    1  \n",
       "26       Cooking staff              1.0           MONDAY                    2  \n",
       "40            Laborers              2.0          TUESDAY                    1  \n",
       "42         Sales staff              2.0         THURSDAY                    1  \n",
       "81            Laborers              2.0         THURSDAY                    1  \n",
       "...                ...              ...              ...                  ...  \n",
       "99924         Laborers              1.0           FRIDAY                    1  \n",
       "99932      Sales staff              2.0           FRIDAY                    1  \n",
       "99935         Laborers              2.0         SATURDAY                    1  \n",
       "99965         Laborers              2.0         SATURDAY                    1  \n",
       "99967       Core staff              1.0         THURSDAY                    1  \n",
       "\n",
       "[8089 rows x 24 columns]"
      ]
     },
     "execution_count": 115,
     "metadata": {},
     "output_type": "execute_result"
    }
   ],
   "source": [
    "loan_emp=loan_df[loan_df['TARGET']==1]\n",
    "loan_emp"
   ]
  },
  {
   "cell_type": "code",
   "execution_count": 116,
   "id": "5622d963",
   "metadata": {
    "scrolled": true
   },
   "outputs": [
    {
     "name": "stdout",
     "output_type": "stream",
     "text": [
      "mean:  42550.26060081592 \n",
      "median:  -1032.0 \n",
      "std 119692.63313569603\n"
     ]
    }
   ],
   "source": [
    "mean_p=loan_emp['DAYS_EMPLOYED'].mean()\n",
    "median_p=loan_emp['DAYS_EMPLOYED'].median()\n",
    "std_p=loan_emp['DAYS_EMPLOYED'].std()\n",
    "print('mean: ',mean_p,'\\nmedian: ',median_p,'\\nstd',std_p)"
   ]
  },
  {
   "cell_type": "code",
   "execution_count": 117,
   "id": "1c5be8be",
   "metadata": {
    "scrolled": true
   },
   "outputs": [
    {
     "data": {
      "text/plain": [
       "[<matplotlib.lines.Line2D at 0x1b70fb023d0>]"
      ]
     },
     "execution_count": 117,
     "metadata": {},
     "output_type": "execute_result"
    },
    {
     "data": {
      "image/png": "[encoded data removed]",
      "text/plain": [
       "<Figure size 432x288 with 1 Axes>"
      ]
     },
     "metadata": {
      "needs_background": "light"
     },
     "output_type": "display_data"
    }
   ],
   "source": [
    "from scipy.stats import norm\n",
    "lower_p=mean_p-4*std_p\n",
    "upper_p=mean_p+4*std_p\n",
    "norm_p=np.arange(lower_p,upper_p)\n",
    "plt.plot(norm_p,norm.pdf(norm_p,mean_p,std_p))"
   ]
  },
  {
   "cell_type": "code",
   "execution_count": 124,
   "id": "ed1f73f3",
   "metadata": {
    "scrolled": false
   },
   "outputs": [
    {
     "data": {
      "text/html": [
       "<div>\n",
       "<style scoped>\n",
       "    .dataframe tbody tr th:only-of-type {\n",
       "        vertical-align: middle;\n",
       "    }\n",
       "\n",
       "    .dataframe tbody tr th {\n",
       "        vertical-align: top;\n",
       "    }\n",
       "\n",
       "    .dataframe thead th {\n",
       "        text-align: right;\n",
       "    }\n",
       "</style>\n",
       "<table border=\"1\" class=\"dataframe\">\n",
       "  <thead>\n",
       "    <tr style=\"text-align: right;\">\n",
       "      <th></th>\n",
       "      <th>SK_ID_CURR</th>\n",
       "      <th>TARGET</th>\n",
       "      <th>NAME_CONTRACT_TYPE</th>\n",
       "      <th>GENDER</th>\n",
       "      <th>Car</th>\n",
       "      <th>House</th>\n",
       "      <th>CNT_CHILDREN</th>\n",
       "      <th>AMT_INCOME_TOTAL</th>\n",
       "      <th>AMT_CREDIT</th>\n",
       "      <th>AMT_GOODS_PRICE</th>\n",
       "      <th>...</th>\n",
       "      <th>DAYS_EMPLOYED</th>\n",
       "      <th>MOBILE</th>\n",
       "      <th>WORK_PHONE</th>\n",
       "      <th>HOME_PHONE</th>\n",
       "      <th>MOBILE_REACHABLE</th>\n",
       "      <th>FLAG_EMAIL</th>\n",
       "      <th>OCCUPATION_TYPE</th>\n",
       "      <th>CNT_FAM_MEMBERS</th>\n",
       "      <th>APPLICATION_DAY</th>\n",
       "      <th>TOTAL_DOC_SUBMITTED</th>\n",
       "    </tr>\n",
       "  </thead>\n",
       "  <tbody>\n",
       "    <tr>\n",
       "      <th>26</th>\n",
       "      <td>100031</td>\n",
       "      <td>1</td>\n",
       "      <td>Cash loans</td>\n",
       "      <td>F</td>\n",
       "      <td>N</td>\n",
       "      <td>Y</td>\n",
       "      <td>0</td>\n",
       "      <td>112500.0</td>\n",
       "      <td>979992.0</td>\n",
       "      <td>702000.0</td>\n",
       "      <td>...</td>\n",
       "      <td>-2628</td>\n",
       "      <td>1</td>\n",
       "      <td>1</td>\n",
       "      <td>0</td>\n",
       "      <td>1</td>\n",
       "      <td>0</td>\n",
       "      <td>Cooking staff</td>\n",
       "      <td>1.0</td>\n",
       "      <td>MONDAY</td>\n",
       "      <td>2</td>\n",
       "    </tr>\n",
       "    <tr>\n",
       "      <th>40</th>\n",
       "      <td>100047</td>\n",
       "      <td>1</td>\n",
       "      <td>Cash loans</td>\n",
       "      <td>M</td>\n",
       "      <td>N</td>\n",
       "      <td>Y</td>\n",
       "      <td>0</td>\n",
       "      <td>202500.0</td>\n",
       "      <td>1193580.0</td>\n",
       "      <td>855000.0</td>\n",
       "      <td>...</td>\n",
       "      <td>-1262</td>\n",
       "      <td>1</td>\n",
       "      <td>1</td>\n",
       "      <td>0</td>\n",
       "      <td>1</td>\n",
       "      <td>0</td>\n",
       "      <td>Laborers</td>\n",
       "      <td>2.0</td>\n",
       "      <td>TUESDAY</td>\n",
       "      <td>1</td>\n",
       "    </tr>\n",
       "    <tr>\n",
       "      <th>42</th>\n",
       "      <td>100049</td>\n",
       "      <td>1</td>\n",
       "      <td>Cash loans</td>\n",
       "      <td>F</td>\n",
       "      <td>N</td>\n",
       "      <td>N</td>\n",
       "      <td>0</td>\n",
       "      <td>135000.0</td>\n",
       "      <td>288873.0</td>\n",
       "      <td>238500.0</td>\n",
       "      <td>...</td>\n",
       "      <td>-3597</td>\n",
       "      <td>1</td>\n",
       "      <td>1</td>\n",
       "      <td>1</td>\n",
       "      <td>1</td>\n",
       "      <td>0</td>\n",
       "      <td>Sales staff</td>\n",
       "      <td>2.0</td>\n",
       "      <td>THURSDAY</td>\n",
       "      <td>1</td>\n",
       "    </tr>\n",
       "    <tr>\n",
       "      <th>94</th>\n",
       "      <td>100112</td>\n",
       "      <td>1</td>\n",
       "      <td>Cash loans</td>\n",
       "      <td>M</td>\n",
       "      <td>Y</td>\n",
       "      <td>Y</td>\n",
       "      <td>0</td>\n",
       "      <td>315000.0</td>\n",
       "      <td>953460.0</td>\n",
       "      <td>900000.0</td>\n",
       "      <td>...</td>\n",
       "      <td>-2015</td>\n",
       "      <td>1</td>\n",
       "      <td>1</td>\n",
       "      <td>0</td>\n",
       "      <td>1</td>\n",
       "      <td>0</td>\n",
       "      <td>Laborers</td>\n",
       "      <td>1.0</td>\n",
       "      <td>SUNDAY</td>\n",
       "      <td>1</td>\n",
       "    </tr>\n",
       "    <tr>\n",
       "      <th>154</th>\n",
       "      <td>100181</td>\n",
       "      <td>1</td>\n",
       "      <td>Cash loans</td>\n",
       "      <td>F</td>\n",
       "      <td>N</td>\n",
       "      <td>Y</td>\n",
       "      <td>0</td>\n",
       "      <td>157500.0</td>\n",
       "      <td>245619.0</td>\n",
       "      <td>166500.0</td>\n",
       "      <td>...</td>\n",
       "      <td>-7676</td>\n",
       "      <td>1</td>\n",
       "      <td>1</td>\n",
       "      <td>0</td>\n",
       "      <td>1</td>\n",
       "      <td>0</td>\n",
       "      <td>Private service staff</td>\n",
       "      <td>1.0</td>\n",
       "      <td>TUESDAY</td>\n",
       "      <td>1</td>\n",
       "    </tr>\n",
       "    <tr>\n",
       "      <th>...</th>\n",
       "      <td>...</td>\n",
       "      <td>...</td>\n",
       "      <td>...</td>\n",
       "      <td>...</td>\n",
       "      <td>...</td>\n",
       "      <td>...</td>\n",
       "      <td>...</td>\n",
       "      <td>...</td>\n",
       "      <td>...</td>\n",
       "      <td>...</td>\n",
       "      <td>...</td>\n",
       "      <td>...</td>\n",
       "      <td>...</td>\n",
       "      <td>...</td>\n",
       "      <td>...</td>\n",
       "      <td>...</td>\n",
       "      <td>...</td>\n",
       "      <td>...</td>\n",
       "      <td>...</td>\n",
       "      <td>...</td>\n",
       "      <td>...</td>\n",
       "    </tr>\n",
       "    <tr>\n",
       "      <th>99820</th>\n",
       "      <td>215880</td>\n",
       "      <td>1</td>\n",
       "      <td>Cash loans</td>\n",
       "      <td>M</td>\n",
       "      <td>Y</td>\n",
       "      <td>Y</td>\n",
       "      <td>0</td>\n",
       "      <td>144000.0</td>\n",
       "      <td>85320.0</td>\n",
       "      <td>67500.0</td>\n",
       "      <td>...</td>\n",
       "      <td>-1507</td>\n",
       "      <td>1</td>\n",
       "      <td>1</td>\n",
       "      <td>0</td>\n",
       "      <td>1</td>\n",
       "      <td>0</td>\n",
       "      <td>Laborers</td>\n",
       "      <td>1.0</td>\n",
       "      <td>MONDAY</td>\n",
       "      <td>1</td>\n",
       "    </tr>\n",
       "    <tr>\n",
       "      <th>99920</th>\n",
       "      <td>216004</td>\n",
       "      <td>1</td>\n",
       "      <td>Cash loans</td>\n",
       "      <td>F</td>\n",
       "      <td>Y</td>\n",
       "      <td>Y</td>\n",
       "      <td>0</td>\n",
       "      <td>157500.0</td>\n",
       "      <td>553581.0</td>\n",
       "      <td>472500.0</td>\n",
       "      <td>...</td>\n",
       "      <td>-2060</td>\n",
       "      <td>1</td>\n",
       "      <td>1</td>\n",
       "      <td>0</td>\n",
       "      <td>1</td>\n",
       "      <td>0</td>\n",
       "      <td>Sales staff</td>\n",
       "      <td>2.0</td>\n",
       "      <td>MONDAY</td>\n",
       "      <td>1</td>\n",
       "    </tr>\n",
       "    <tr>\n",
       "      <th>99935</th>\n",
       "      <td>216021</td>\n",
       "      <td>1</td>\n",
       "      <td>Cash loans</td>\n",
       "      <td>F</td>\n",
       "      <td>N</td>\n",
       "      <td>Y</td>\n",
       "      <td>0</td>\n",
       "      <td>243000.0</td>\n",
       "      <td>495882.0</td>\n",
       "      <td>405000.0</td>\n",
       "      <td>...</td>\n",
       "      <td>-1662</td>\n",
       "      <td>1</td>\n",
       "      <td>1</td>\n",
       "      <td>0</td>\n",
       "      <td>1</td>\n",
       "      <td>0</td>\n",
       "      <td>Laborers</td>\n",
       "      <td>2.0</td>\n",
       "      <td>SATURDAY</td>\n",
       "      <td>1</td>\n",
       "    </tr>\n",
       "    <tr>\n",
       "      <th>99965</th>\n",
       "      <td>216055</td>\n",
       "      <td>1</td>\n",
       "      <td>Cash loans</td>\n",
       "      <td>F</td>\n",
       "      <td>Y</td>\n",
       "      <td>Y</td>\n",
       "      <td>0</td>\n",
       "      <td>225000.0</td>\n",
       "      <td>809136.0</td>\n",
       "      <td>643500.0</td>\n",
       "      <td>...</td>\n",
       "      <td>-1669</td>\n",
       "      <td>1</td>\n",
       "      <td>1</td>\n",
       "      <td>0</td>\n",
       "      <td>1</td>\n",
       "      <td>0</td>\n",
       "      <td>Laborers</td>\n",
       "      <td>2.0</td>\n",
       "      <td>SATURDAY</td>\n",
       "      <td>1</td>\n",
       "    </tr>\n",
       "    <tr>\n",
       "      <th>99967</th>\n",
       "      <td>216057</td>\n",
       "      <td>1</td>\n",
       "      <td>Cash loans</td>\n",
       "      <td>M</td>\n",
       "      <td>N</td>\n",
       "      <td>N</td>\n",
       "      <td>0</td>\n",
       "      <td>54000.0</td>\n",
       "      <td>360000.0</td>\n",
       "      <td>360000.0</td>\n",
       "      <td>...</td>\n",
       "      <td>-3190</td>\n",
       "      <td>1</td>\n",
       "      <td>1</td>\n",
       "      <td>1</td>\n",
       "      <td>1</td>\n",
       "      <td>0</td>\n",
       "      <td>Core staff</td>\n",
       "      <td>1.0</td>\n",
       "      <td>THURSDAY</td>\n",
       "      <td>1</td>\n",
       "    </tr>\n",
       "  </tbody>\n",
       "</table>\n",
       "<p>4043 rows × 24 columns</p>\n",
       "</div>"
      ],
      "text/plain": [
       "       SK_ID_CURR  TARGET NAME_CONTRACT_TYPE GENDER Car House  CNT_CHILDREN  \\\n",
       "26         100031       1         Cash loans      F   N     Y             0   \n",
       "40         100047       1         Cash loans      M   N     Y             0   \n",
       "42         100049       1         Cash loans      F   N     N             0   \n",
       "94         100112       1         Cash loans      M   Y     Y             0   \n",
       "154        100181       1         Cash loans      F   N     Y             0   \n",
       "...           ...     ...                ...    ...  ..   ...           ...   \n",
       "99820      215880       1         Cash loans      M   Y     Y             0   \n",
       "99920      216004       1         Cash loans      F   Y     Y             0   \n",
       "99935      216021       1         Cash loans      F   N     Y             0   \n",
       "99965      216055       1         Cash loans      F   Y     Y             0   \n",
       "99967      216057       1         Cash loans      M   N     N             0   \n",
       "\n",
       "       AMT_INCOME_TOTAL  AMT_CREDIT  AMT_GOODS_PRICE  ... DAYS_EMPLOYED  \\\n",
       "26             112500.0    979992.0         702000.0  ...         -2628   \n",
       "40             202500.0   1193580.0         855000.0  ...         -1262   \n",
       "42             135000.0    288873.0         238500.0  ...         -3597   \n",
       "94             315000.0    953460.0         900000.0  ...         -2015   \n",
       "154            157500.0    245619.0         166500.0  ...         -7676   \n",
       "...                 ...         ...              ...  ...           ...   \n",
       "99820          144000.0     85320.0          67500.0  ...         -1507   \n",
       "99920          157500.0    553581.0         472500.0  ...         -2060   \n",
       "99935          243000.0    495882.0         405000.0  ...         -1662   \n",
       "99965          225000.0    809136.0         643500.0  ...         -1669   \n",
       "99967           54000.0    360000.0         360000.0  ...         -3190   \n",
       "\n",
       "      MOBILE WORK_PHONE HOME_PHONE  MOBILE_REACHABLE  FLAG_EMAIL  \\\n",
       "26         1          1          0                 1           0   \n",
       "40         1          1          0                 1           0   \n",
       "42         1          1          1                 1           0   \n",
       "94         1          1          0                 1           0   \n",
       "154        1          1          0                 1           0   \n",
       "...      ...        ...        ...               ...         ...   \n",
       "99820      1          1          0                 1           0   \n",
       "99920      1          1          0                 1           0   \n",
       "99935      1          1          0                 1           0   \n",
       "99965      1          1          0                 1           0   \n",
       "99967      1          1          1                 1           0   \n",
       "\n",
       "             OCCUPATION_TYPE  CNT_FAM_MEMBERS  APPLICATION_DAY  \\\n",
       "26             Cooking staff              1.0           MONDAY   \n",
       "40                  Laborers              2.0          TUESDAY   \n",
       "42               Sales staff              2.0         THURSDAY   \n",
       "94                  Laborers              1.0           SUNDAY   \n",
       "154    Private service staff              1.0          TUESDAY   \n",
       "...                      ...              ...              ...   \n",
       "99820               Laborers              1.0           MONDAY   \n",
       "99920            Sales staff              2.0           MONDAY   \n",
       "99935               Laborers              2.0         SATURDAY   \n",
       "99965               Laborers              2.0         SATURDAY   \n",
       "99967             Core staff              1.0         THURSDAY   \n",
       "\n",
       "       TOTAL_DOC_SUBMITTED  \n",
       "26                       2  \n",
       "40                       1  \n",
       "42                       1  \n",
       "94                       1  \n",
       "154                      1  \n",
       "...                    ...  \n",
       "99820                    1  \n",
       "99920                    1  \n",
       "99935                    1  \n",
       "99965                    1  \n",
       "99967                    1  \n",
       "\n",
       "[4043 rows x 24 columns]"
      ]
     },
     "execution_count": 124,
     "metadata": {},
     "output_type": "execute_result"
    }
   ],
   "source": [
    "loan_rej=loan_emp[(loan_emp.DAYS_EMPLOYED<median_p)]\n",
    "loan_rej"
   ]
  },
  {
   "cell_type": "markdown",
   "id": "4a156d69",
   "metadata": {},
   "source": [
    "* Here we had done an anlaysis on the days employed with little more insight.\n",
    "* The median value here is -1032,which is realy high.\n",
    "* Then we had created a list of coustomers with days employed less than the median value.\n",
    "* There are 4043 number of people comes in that category, so they will be in the risk category"
   ]
  },
  {
   "cell_type": "markdown",
   "id": "912c2ca3",
   "metadata": {},
   "source": [
    "lets create a loan rejection list from the above data.\n",
    "* here we are eliminating those members dont have any collateral for the loan ,eg: cars and home\n"
   ]
  },
  {
   "cell_type": "code",
   "execution_count": 128,
   "id": "7dd722c3",
   "metadata": {
    "scrolled": true
   },
   "outputs": [
    {
     "data": {
      "text/html": [
       "<div>\n",
       "<style scoped>\n",
       "    .dataframe tbody tr th:only-of-type {\n",
       "        vertical-align: middle;\n",
       "    }\n",
       "\n",
       "    .dataframe tbody tr th {\n",
       "        vertical-align: top;\n",
       "    }\n",
       "\n",
       "    .dataframe thead th {\n",
       "        text-align: right;\n",
       "    }\n",
       "</style>\n",
       "<table border=\"1\" class=\"dataframe\">\n",
       "  <thead>\n",
       "    <tr style=\"text-align: right;\">\n",
       "      <th></th>\n",
       "      <th>SK_ID_CURR</th>\n",
       "      <th>TARGET</th>\n",
       "      <th>NAME_CONTRACT_TYPE</th>\n",
       "      <th>GENDER</th>\n",
       "      <th>Car</th>\n",
       "      <th>House</th>\n",
       "      <th>CNT_CHILDREN</th>\n",
       "      <th>AMT_INCOME_TOTAL</th>\n",
       "      <th>AMT_CREDIT</th>\n",
       "      <th>AMT_GOODS_PRICE</th>\n",
       "      <th>...</th>\n",
       "      <th>DAYS_EMPLOYED</th>\n",
       "      <th>MOBILE</th>\n",
       "      <th>WORK_PHONE</th>\n",
       "      <th>HOME_PHONE</th>\n",
       "      <th>MOBILE_REACHABLE</th>\n",
       "      <th>FLAG_EMAIL</th>\n",
       "      <th>OCCUPATION_TYPE</th>\n",
       "      <th>CNT_FAM_MEMBERS</th>\n",
       "      <th>APPLICATION_DAY</th>\n",
       "      <th>TOTAL_DOC_SUBMITTED</th>\n",
       "    </tr>\n",
       "  </thead>\n",
       "  <tbody>\n",
       "    <tr>\n",
       "      <th>42</th>\n",
       "      <td>100049</td>\n",
       "      <td>1</td>\n",
       "      <td>Cash loans</td>\n",
       "      <td>F</td>\n",
       "      <td>N</td>\n",
       "      <td>N</td>\n",
       "      <td>0</td>\n",
       "      <td>135000.0</td>\n",
       "      <td>288873.0</td>\n",
       "      <td>238500.0</td>\n",
       "      <td>...</td>\n",
       "      <td>-3597</td>\n",
       "      <td>1</td>\n",
       "      <td>1</td>\n",
       "      <td>1</td>\n",
       "      <td>1</td>\n",
       "      <td>0</td>\n",
       "      <td>Sales staff</td>\n",
       "      <td>2.0</td>\n",
       "      <td>THURSDAY</td>\n",
       "      <td>1</td>\n",
       "    </tr>\n",
       "    <tr>\n",
       "      <th>260</th>\n",
       "      <td>100300</td>\n",
       "      <td>1</td>\n",
       "      <td>Cash loans</td>\n",
       "      <td>M</td>\n",
       "      <td>N</td>\n",
       "      <td>N</td>\n",
       "      <td>0</td>\n",
       "      <td>63000.0</td>\n",
       "      <td>426645.0</td>\n",
       "      <td>324000.0</td>\n",
       "      <td>...</td>\n",
       "      <td>-1572</td>\n",
       "      <td>1</td>\n",
       "      <td>1</td>\n",
       "      <td>0</td>\n",
       "      <td>1</td>\n",
       "      <td>0</td>\n",
       "      <td>Sales staff</td>\n",
       "      <td>1.0</td>\n",
       "      <td>WEDNESDAY</td>\n",
       "      <td>1</td>\n",
       "    </tr>\n",
       "    <tr>\n",
       "      <th>424</th>\n",
       "      <td>100490</td>\n",
       "      <td>1</td>\n",
       "      <td>Cash loans</td>\n",
       "      <td>M</td>\n",
       "      <td>N</td>\n",
       "      <td>N</td>\n",
       "      <td>0</td>\n",
       "      <td>135000.0</td>\n",
       "      <td>755190.0</td>\n",
       "      <td>675000.0</td>\n",
       "      <td>...</td>\n",
       "      <td>-2354</td>\n",
       "      <td>1</td>\n",
       "      <td>1</td>\n",
       "      <td>1</td>\n",
       "      <td>1</td>\n",
       "      <td>0</td>\n",
       "      <td>Security staff</td>\n",
       "      <td>1.0</td>\n",
       "      <td>WEDNESDAY</td>\n",
       "      <td>1</td>\n",
       "    </tr>\n",
       "    <tr>\n",
       "      <th>563</th>\n",
       "      <td>100649</td>\n",
       "      <td>1</td>\n",
       "      <td>Cash loans</td>\n",
       "      <td>F</td>\n",
       "      <td>N</td>\n",
       "      <td>N</td>\n",
       "      <td>2</td>\n",
       "      <td>180000.0</td>\n",
       "      <td>284400.0</td>\n",
       "      <td>225000.0</td>\n",
       "      <td>...</td>\n",
       "      <td>-4832</td>\n",
       "      <td>1</td>\n",
       "      <td>1</td>\n",
       "      <td>0</td>\n",
       "      <td>1</td>\n",
       "      <td>0</td>\n",
       "      <td>Laborers</td>\n",
       "      <td>4.0</td>\n",
       "      <td>SUNDAY</td>\n",
       "      <td>1</td>\n",
       "    </tr>\n",
       "    <tr>\n",
       "      <th>564</th>\n",
       "      <td>100650</td>\n",
       "      <td>1</td>\n",
       "      <td>Cash loans</td>\n",
       "      <td>M</td>\n",
       "      <td>N</td>\n",
       "      <td>N</td>\n",
       "      <td>0</td>\n",
       "      <td>135000.0</td>\n",
       "      <td>808650.0</td>\n",
       "      <td>675000.0</td>\n",
       "      <td>...</td>\n",
       "      <td>-1496</td>\n",
       "      <td>1</td>\n",
       "      <td>1</td>\n",
       "      <td>1</td>\n",
       "      <td>1</td>\n",
       "      <td>0</td>\n",
       "      <td>Low-skill Laborers</td>\n",
       "      <td>1.0</td>\n",
       "      <td>SATURDAY</td>\n",
       "      <td>1</td>\n",
       "    </tr>\n",
       "    <tr>\n",
       "      <th>...</th>\n",
       "      <td>...</td>\n",
       "      <td>...</td>\n",
       "      <td>...</td>\n",
       "      <td>...</td>\n",
       "      <td>...</td>\n",
       "      <td>...</td>\n",
       "      <td>...</td>\n",
       "      <td>...</td>\n",
       "      <td>...</td>\n",
       "      <td>...</td>\n",
       "      <td>...</td>\n",
       "      <td>...</td>\n",
       "      <td>...</td>\n",
       "      <td>...</td>\n",
       "      <td>...</td>\n",
       "      <td>...</td>\n",
       "      <td>...</td>\n",
       "      <td>...</td>\n",
       "      <td>...</td>\n",
       "      <td>...</td>\n",
       "      <td>...</td>\n",
       "    </tr>\n",
       "    <tr>\n",
       "      <th>99401</th>\n",
       "      <td>215406</td>\n",
       "      <td>1</td>\n",
       "      <td>Cash loans</td>\n",
       "      <td>M</td>\n",
       "      <td>N</td>\n",
       "      <td>N</td>\n",
       "      <td>0</td>\n",
       "      <td>45000.0</td>\n",
       "      <td>45000.0</td>\n",
       "      <td>45000.0</td>\n",
       "      <td>...</td>\n",
       "      <td>-2120</td>\n",
       "      <td>1</td>\n",
       "      <td>1</td>\n",
       "      <td>1</td>\n",
       "      <td>1</td>\n",
       "      <td>0</td>\n",
       "      <td>Core staff</td>\n",
       "      <td>1.0</td>\n",
       "      <td>WEDNESDAY</td>\n",
       "      <td>1</td>\n",
       "    </tr>\n",
       "    <tr>\n",
       "      <th>99407</th>\n",
       "      <td>215415</td>\n",
       "      <td>1</td>\n",
       "      <td>Cash loans</td>\n",
       "      <td>M</td>\n",
       "      <td>N</td>\n",
       "      <td>N</td>\n",
       "      <td>0</td>\n",
       "      <td>180000.0</td>\n",
       "      <td>473760.0</td>\n",
       "      <td>450000.0</td>\n",
       "      <td>...</td>\n",
       "      <td>-2512</td>\n",
       "      <td>1</td>\n",
       "      <td>1</td>\n",
       "      <td>0</td>\n",
       "      <td>1</td>\n",
       "      <td>0</td>\n",
       "      <td>Laborers</td>\n",
       "      <td>1.0</td>\n",
       "      <td>FRIDAY</td>\n",
       "      <td>1</td>\n",
       "    </tr>\n",
       "    <tr>\n",
       "      <th>99429</th>\n",
       "      <td>215438</td>\n",
       "      <td>1</td>\n",
       "      <td>Cash loans</td>\n",
       "      <td>M</td>\n",
       "      <td>N</td>\n",
       "      <td>N</td>\n",
       "      <td>0</td>\n",
       "      <td>270000.0</td>\n",
       "      <td>720000.0</td>\n",
       "      <td>720000.0</td>\n",
       "      <td>...</td>\n",
       "      <td>-1905</td>\n",
       "      <td>1</td>\n",
       "      <td>1</td>\n",
       "      <td>1</td>\n",
       "      <td>1</td>\n",
       "      <td>1</td>\n",
       "      <td>Managers</td>\n",
       "      <td>2.0</td>\n",
       "      <td>SATURDAY</td>\n",
       "      <td>1</td>\n",
       "    </tr>\n",
       "    <tr>\n",
       "      <th>99452</th>\n",
       "      <td>215462</td>\n",
       "      <td>1</td>\n",
       "      <td>Cash loans</td>\n",
       "      <td>M</td>\n",
       "      <td>N</td>\n",
       "      <td>N</td>\n",
       "      <td>0</td>\n",
       "      <td>157500.0</td>\n",
       "      <td>592560.0</td>\n",
       "      <td>450000.0</td>\n",
       "      <td>...</td>\n",
       "      <td>-1890</td>\n",
       "      <td>1</td>\n",
       "      <td>1</td>\n",
       "      <td>0</td>\n",
       "      <td>1</td>\n",
       "      <td>1</td>\n",
       "      <td>Managers</td>\n",
       "      <td>2.0</td>\n",
       "      <td>FRIDAY</td>\n",
       "      <td>1</td>\n",
       "    </tr>\n",
       "    <tr>\n",
       "      <th>99967</th>\n",
       "      <td>216057</td>\n",
       "      <td>1</td>\n",
       "      <td>Cash loans</td>\n",
       "      <td>M</td>\n",
       "      <td>N</td>\n",
       "      <td>N</td>\n",
       "      <td>0</td>\n",
       "      <td>54000.0</td>\n",
       "      <td>360000.0</td>\n",
       "      <td>360000.0</td>\n",
       "      <td>...</td>\n",
       "      <td>-3190</td>\n",
       "      <td>1</td>\n",
       "      <td>1</td>\n",
       "      <td>1</td>\n",
       "      <td>1</td>\n",
       "      <td>0</td>\n",
       "      <td>Core staff</td>\n",
       "      <td>1.0</td>\n",
       "      <td>THURSDAY</td>\n",
       "      <td>1</td>\n",
       "    </tr>\n",
       "  </tbody>\n",
       "</table>\n",
       "<p>900 rows × 24 columns</p>\n",
       "</div>"
      ],
      "text/plain": [
       "       SK_ID_CURR  TARGET NAME_CONTRACT_TYPE GENDER Car House  CNT_CHILDREN  \\\n",
       "42         100049       1         Cash loans      F   N     N             0   \n",
       "260        100300       1         Cash loans      M   N     N             0   \n",
       "424        100490       1         Cash loans      M   N     N             0   \n",
       "563        100649       1         Cash loans      F   N     N             2   \n",
       "564        100650       1         Cash loans      M   N     N             0   \n",
       "...           ...     ...                ...    ...  ..   ...           ...   \n",
       "99401      215406       1         Cash loans      M   N     N             0   \n",
       "99407      215415       1         Cash loans      M   N     N             0   \n",
       "99429      215438       1         Cash loans      M   N     N             0   \n",
       "99452      215462       1         Cash loans      M   N     N             0   \n",
       "99967      216057       1         Cash loans      M   N     N             0   \n",
       "\n",
       "       AMT_INCOME_TOTAL  AMT_CREDIT  AMT_GOODS_PRICE  ... DAYS_EMPLOYED  \\\n",
       "42             135000.0    288873.0         238500.0  ...         -3597   \n",
       "260             63000.0    426645.0         324000.0  ...         -1572   \n",
       "424            135000.0    755190.0         675000.0  ...         -2354   \n",
       "563            180000.0    284400.0         225000.0  ...         -4832   \n",
       "564            135000.0    808650.0         675000.0  ...         -1496   \n",
       "...                 ...         ...              ...  ...           ...   \n",
       "99401           45000.0     45000.0          45000.0  ...         -2120   \n",
       "99407          180000.0    473760.0         450000.0  ...         -2512   \n",
       "99429          270000.0    720000.0         720000.0  ...         -1905   \n",
       "99452          157500.0    592560.0         450000.0  ...         -1890   \n",
       "99967           54000.0    360000.0         360000.0  ...         -3190   \n",
       "\n",
       "      MOBILE WORK_PHONE HOME_PHONE  MOBILE_REACHABLE  FLAG_EMAIL  \\\n",
       "42         1          1          1                 1           0   \n",
       "260        1          1          0                 1           0   \n",
       "424        1          1          1                 1           0   \n",
       "563        1          1          0                 1           0   \n",
       "564        1          1          1                 1           0   \n",
       "...      ...        ...        ...               ...         ...   \n",
       "99401      1          1          1                 1           0   \n",
       "99407      1          1          0                 1           0   \n",
       "99429      1          1          1                 1           1   \n",
       "99452      1          1          0                 1           1   \n",
       "99967      1          1          1                 1           0   \n",
       "\n",
       "          OCCUPATION_TYPE  CNT_FAM_MEMBERS  APPLICATION_DAY  \\\n",
       "42            Sales staff              2.0         THURSDAY   \n",
       "260           Sales staff              1.0        WEDNESDAY   \n",
       "424        Security staff              1.0        WEDNESDAY   \n",
       "563              Laborers              4.0           SUNDAY   \n",
       "564    Low-skill Laborers              1.0         SATURDAY   \n",
       "...                   ...              ...              ...   \n",
       "99401          Core staff              1.0        WEDNESDAY   \n",
       "99407            Laborers              1.0           FRIDAY   \n",
       "99429            Managers              2.0         SATURDAY   \n",
       "99452            Managers              2.0           FRIDAY   \n",
       "99967          Core staff              1.0         THURSDAY   \n",
       "\n",
       "       TOTAL_DOC_SUBMITTED  \n",
       "42                       1  \n",
       "260                      1  \n",
       "424                      1  \n",
       "563                      1  \n",
       "564                      1  \n",
       "...                    ...  \n",
       "99401                    1  \n",
       "99407                    1  \n",
       "99429                    1  \n",
       "99452                    1  \n",
       "99967                    1  \n",
       "\n",
       "[900 rows x 24 columns]"
      ]
     },
     "execution_count": 128,
     "metadata": {},
     "output_type": "execute_result"
    }
   ],
   "source": [
    "loan_rejection_list=loan_emp[(loan_emp.DAYS_EMPLOYED<median_p)&(loan_emp.Car=='N')&(loan_emp.House=='N')]\n",
    "loan_rejection_list"
   ]
  },
  {
   "cell_type": "code",
   "execution_count": 129,
   "id": "faf396e4",
   "metadata": {},
   "outputs": [],
   "source": [
    "loan_rejection_list.to_csv('loan_rejection.csv')"
   ]
  },
  {
   "cell_type": "code",
   "execution_count": 130,
   "id": "ec9a8b2c",
   "metadata": {},
   "outputs": [],
   "source": [
    "loan_rejection_list.to_excel('Loan_rejection.xlsx')"
   ]
  },
  {
   "cell_type": "markdown",
   "id": "c4d5ac3f",
   "metadata": {},
   "source": [
    "### From the whole analysis i had created a list of coustomers who wont have the sure capacity to repay the loan , so by that reason those coustomers must move to the loan rejection list."
   ]
  }
 ],
 "metadata": {
  "kernelspec": {
   "display_name": "Python 3 (ipykernel)",
   "language": "python",
   "name": "python3"
  },
  "language_info": {
   "codemirror_mode": {
    "name": "ipython",
    "version": 3
   },
   "file_extension": ".py",
   "mimetype": "text/x-python",
   "name": "python",
   "nbconvert_exporter": "python",
   "pygments_lexer": "ipython3",
   "version": "3.9.12"
  }
 },
 "nbformat": 4,
 "nbformat_minor": 5
}
